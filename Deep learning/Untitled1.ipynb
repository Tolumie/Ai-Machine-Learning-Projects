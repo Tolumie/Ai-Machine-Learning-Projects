{
 "cells": [
  {
   "cell_type": "code",
   "execution_count": null,
   "id": "8fb236e8",
   "metadata": {},
   "outputs": [],
   "source": [
    "numbers = list(range(15))"
   ]
  },
  {
   "cell_type": "code",
   "execution_count": null,
   "id": "317767e7",
   "metadata": {},
   "outputs": [],
   "source": []
  }
 ],
 "metadata": {
  "kernelspec": {
   "display_name": "pyspark-env",
   "language": "python",
   "name": "pyspark-env"
  }
 },
 "nbformat": 4,
 "nbformat_minor": 5
}
