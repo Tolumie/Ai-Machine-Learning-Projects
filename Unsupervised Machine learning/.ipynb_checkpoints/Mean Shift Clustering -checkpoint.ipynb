{
 "cells": [
  {
   "cell_type": "markdown",
   "metadata": {},
   "source": [
    "<p style=\"text-align:center\">\n",
    "    <a href=\"https://skills.network/?utm_medium=Exinfluencer&utm_source=Exinfluencer&utm_content=000026UJ&utm_term=10006555&utm_id=NA-SkillsNetwork-Channel-SkillsNetworkCoursesIBMML0187ENSkillsNetwork821-2023-01-01\">\n",
    "    <img src=\"https://cf-courses-data.s3.us.cloud-object-storage.appdomain.cloud/assets/logos/SN_web_lightmode.png\" width=\"200\" alt=\"Skills Network Logo\"  />\n",
    "    </a>\n",
    "</p>\n"
   ]
  },
  {
   "cell_type": "markdown",
   "metadata": {},
   "source": [
    "**<h1>Mean Shift Clustering </h1>**\n"
   ]
  },
  {
   "cell_type": "markdown",
   "metadata": {},
   "source": [
    "Estimated time needed: **30** minutes\n"
   ]
  },
  {
   "cell_type": "markdown",
   "metadata": {},
   "source": [
    "As you hike in the mountains, you stumble upon a plant you have never seen before. You look around and you spot a few more of them. The similarities between them tell you that they probably belong to the same group of plants. However, you are not a botanist, so you can't know exactly which species these plants belong to. This task can be solved with the help of clustering analysis. Clustering can identify the groups of similar looking objects and group them together based on their similar instances.\n",
    "\n",
    "<img src=\"https://cf-courses-data.s3.us.cloud-object-storage.appdomain.cloud/IBM-ML0187EN-SkillsNetwork/labs/module%202/images/hiking.jpg\" width=\"70%\">\n",
    "\n",
    "Image from [PxHere](https://pxhere.com/en/photo/1067051?utm_medium=Exinfluencer&utm_source=Exinfluencer&utm_content=000026UJ&utm_term=10006555&utm_id=NA-SkillsNetwork-Channel-SkillsNetworkCoursesIBMML0187ENSkillsNetwork821-2023-01-01)\n"
   ]
  },
  {
   "cell_type": "markdown",
   "metadata": {},
   "source": [
    "In this notebook, we will explore Mean Shift Clustering, which is a **non-parametric centroid-based clustering** algorithm. Mean Shift Clustering attempts to group data without having first to be trained on the labeled data. Unlike the K-Means Clustering, when using the Mean Shift, we don't need to specify the number of clusters beforehand. Mean Shift Clustering is used in a wide variety of applications, such as image segmentation, academic ranking systems, search engines, medicine, and many others. \n",
    "\n",
    "In the first part of this notebook, we will focus on the image segmentation, which is used in many object detection and tracking systems, as it makes it easier to detect the contour of each object.\n",
    "\n",
    "In the second part of this notebook, we will show how to use the Mean Shift Clustering to classify the survivors rates of the Titanic, the most famous shipwreck in history. Based on the passengers' features (e.g. age, ticket class, fare, etc.) we will classify the passengers into clusters with different survival probabilities. \n"
   ]
  },
  {
   "cell_type": "markdown",
   "metadata": {},
   "source": [
    "## __Table of Contents__\n",
    "\n",
    "<ol>\n",
    "    <li><a href=\"#Objectives\">Objectives</a></li>\n",
    "    <li>\n",
    "        <a href=\"#Setup\">Setup</a>\n",
    "        <ol>\n",
    "            <li><a href=\"#Installing-Required-Libraries\">Installing Required Libraries</a></li>\n",
    "            <li><a href=\"#Importing-Required-Libraries\">Importing Required Libraries</a></li>\n",
    "        </ol>\n",
    "    </li>\n",
    "   <li>\n",
    "        <a href=\"#Mean Shift for Image Segmentation\">Mean Shift for Image Segmentation</a>\n",
    "        <ol>\n",
    "            <li><a href=\"#Pre-processing Image\">Pre-processing Image</a></li> \n",
    "            <li><a href=\"#Apply Mean Shift to the Image\">Apply Mean Shift to the Image</a></li>         \n",
    "        </ol>\n",
    "    </li>    \n",
    "    <li>\n",
    "        <a href=\"#Exercises\">Exercises</a>\n",
    "        <ol>\n",
    "            <li><a href=\"#Exercise 1 - Repeat the above image segmentation process for a new image on the internet\">Exercise 1 - Repeat the above image segmentation process for a new image on the internet</a></li>\n",
    "            <li><a href=\"#Exercise 2 - Mean Shift Applied to the Titanic Dataset \">Exercise 2 - Mean Shift Applied to the Titanic Dataset</a></li>\n",
    "        </ol>       \n",
    "    </li>\n",
    "    <li>\n",
    "        <a href=\"#How Mean Shift Works (Optional)\">How Mean Shift Works (Optional)</a>\n",
    "        <ol>\n",
    "            <li><a href=\"#Kernel Density Estimation\">Kernel Density Estimation</a></li>\n",
    "            <li><a href=\"#Mean Shift From Scratch\">Mean Shift From Scratch</a></li>\n",
    "        </ol>\n",
    "    </li>    \n",
    "</ol>\n"
   ]
  },
  {
   "cell_type": "markdown",
   "metadata": {},
   "source": [
    "----\n"
   ]
  },
  {
   "cell_type": "markdown",
   "metadata": {},
   "source": [
    "<h2>Objectives</h2>\n"
   ]
  },
  {
   "cell_type": "markdown",
   "metadata": {},
   "source": [
    "After completing this lab you will be able to:\n"
   ]
  },
  {
   "cell_type": "markdown",
   "metadata": {},
   "source": [
    "- **Understand** Kernel Density Estimation (KDE).\n",
    "- **Describe** how Mean Shift Works from scratch.\n",
    "- **Implement** Mean Shift for image segmentation.\n"
   ]
  },
  {
   "cell_type": "markdown",
   "metadata": {},
   "source": [
    "<h2 id='Setup'>Setup</h2>\n"
   ]
  },
  {
   "cell_type": "markdown",
   "metadata": {},
   "source": [
    "For this lab, we will be using the following libraries:\n",
    " - [`pandas`](https://pandas.pydata.org/?utm_medium=Exinfluencer&utm_source=Exinfluencer&utm_content=000026UJ&utm_term=10006555&utm_id=NA-SkillsNetwork-Channel-SkillsNetworkCoursesIBMML0187ENSkillsNetwork821-2023-01-01) for managing the data.\n",
    " - [`numpy`](https://numpy.org/?utm_medium=Exinfluencer&utm_source=Exinfluencer&utm_content=000026UJ&utm_term=10006555&utm_id=NA-SkillsNetwork-Channel-SkillsNetworkCoursesIBMML0187ENSkillsNetwork821-2023-01-01) for mathematical operations.\n",
    " - [`sklearn`](https://scikit-learn.org/stable/?utm_medium=Exinfluencer&utm_source=Exinfluencer&utm_content=000026UJ&utm_term=10006555&utm_id=NA-SkillsNetwork-Channel-SkillsNetworkCoursesIBMML0187ENSkillsNetwork821-2023-01-01) for machine learning and machine-learning-pipeline related functions.\n",
    " - [`openCV`](https://opencv.org/?utm_medium=Exinfluencer&utm_source=Exinfluencer&utm_content=000026UJ&utm_term=10006555&utm_id=NA-SkillsNetwork-Channel-SkillsNetworkCoursesIBMML0187ENSkillsNetwork821-2023-01-01) OpenCV provides a real-time optimized Computer Vision library, tools, and hardware. \n",
    " - [`matplotlib`](https://matplotlib.org/?utm_medium=Exinfluencer&utm_source=Exinfluencer&utm_content=000026UJ&utm_term=10006555&utm_id=NA-SkillsNetwork-Channel-SkillsNetworkCoursesIBMML0187ENSkillsNetwork821-2023-01-01) for additional plotting tools.\n"
   ]
  },
  {
   "cell_type": "markdown",
   "metadata": {
    "tags": []
   },
   "source": [
    "### Installing Required Libraries\n",
    "\n",
    "The following required modules are pre-installed in the Skills Network Labs environment. However if you run this notebook commands in a different Jupyter environment (e.g. Watson Studio or Ananconda) you will need to install these libraries by removing the `#` sign before `!mamba` in the code cell below.\n"
   ]
  },
  {
   "cell_type": "code",
   "execution_count": 1,
   "metadata": {},
   "outputs": [],
   "source": [
    "# All Libraries required for this lab are listed below. The libraries pre-installed on Skills Network Labs are commented.\n",
    "#!mamba install -qy pandas==1.3.4 numpy==1.21.4 matplotlib==3.5.0 scikit-learn==0.20.1 scipy==1.7.3\n",
    "# Note: If your environment doesn't support \"!mamba install\", use \"!pip install pandas==1.3.4 numpy==1.21.4 matplotlib==3.5.0 scikit-learn==0.20.1 scipy==1.7.3\""
   ]
  },
  {
   "cell_type": "code",
   "execution_count": 2,
   "metadata": {},
   "outputs": [
    {
     "name": "stdout",
     "output_type": "stream",
     "text": [
      "Collecting opencv-python\n",
      "  Obtaining dependency information for opencv-python from https://files.pythonhosted.org/packages/a4/7d/f1c30a92854540bf789e9cd5dde7ef49bbe63f855b85a2e6b3db8135c591/opencv_python-4.11.0.86-cp37-abi3-win_amd64.whl.metadata\n",
      "  Downloading opencv_python-4.11.0.86-cp37-abi3-win_amd64.whl.metadata (20 kB)\n",
      "Requirement already satisfied: numpy>=1.21.2 in c:\\users\\tolu\\anaconda3\\lib\\site-packages (from opencv-python) (1.24.3)\n",
      "Downloading opencv_python-4.11.0.86-cp37-abi3-win_amd64.whl (39.5 MB)\n",
      "   ---------------------------------------- 0.0/39.5 MB ? eta -:--:--\n",
      "   ---------------------------------------- 0.0/39.5 MB ? eta -:--:--\n",
      "   ---------------------------------------- 0.0/39.5 MB 435.7 kB/s eta 0:01:31\n",
      "   ---------------------------------------- 0.0/39.5 MB 326.8 kB/s eta 0:02:01\n",
      "   ---------------------------------------- 0.1/39.5 MB 365.7 kB/s eta 0:01:48\n",
      "   ---------------------------------------- 0.1/39.5 MB 438.1 kB/s eta 0:01:30\n",
      "   ---------------------------------------- 0.1/39.5 MB 393.8 kB/s eta 0:01:41\n",
      "   ---------------------------------------- 0.1/39.5 MB 425.1 kB/s eta 0:01:33\n",
      "   ---------------------------------------- 0.2/39.5 MB 459.5 kB/s eta 0:01:26\n",
      "   ---------------------------------------- 0.2/39.5 MB 625.1 kB/s eta 0:01:03\n",
      "   ---------------------------------------- 0.3/39.5 MB 630.2 kB/s eta 0:01:03\n",
      "   ---------------------------------------- 0.3/39.5 MB 703.0 kB/s eta 0:00:56\n",
      "   ---------------------------------------- 0.4/39.5 MB 804.0 kB/s eta 0:00:49\n",
      "    --------------------------------------- 0.5/39.5 MB 1.0 MB/s eta 0:00:39\n",
      "    --------------------------------------- 0.6/39.5 MB 1.0 MB/s eta 0:00:38\n",
      "    --------------------------------------- 0.7/39.5 MB 1.2 MB/s eta 0:00:32\n",
      "    --------------------------------------- 0.9/39.5 MB 1.3 MB/s eta 0:00:30\n",
      "    --------------------------------------- 1.0/39.5 MB 1.4 MB/s eta 0:00:27\n",
      "   - -------------------------------------- 1.2/39.5 MB 1.7 MB/s eta 0:00:23\n",
      "   - -------------------------------------- 1.4/39.5 MB 1.9 MB/s eta 0:00:21\n",
      "   - -------------------------------------- 1.6/39.5 MB 2.0 MB/s eta 0:00:19\n",
      "   - -------------------------------------- 1.8/39.5 MB 2.2 MB/s eta 0:00:18\n",
      "   -- ------------------------------------- 2.0/39.5 MB 2.3 MB/s eta 0:00:17\n",
      "   -- ------------------------------------- 2.2/39.5 MB 2.4 MB/s eta 0:00:16\n",
      "   -- ------------------------------------- 2.4/39.5 MB 2.5 MB/s eta 0:00:15\n",
      "   -- ------------------------------------- 2.7/39.5 MB 2.7 MB/s eta 0:00:14\n",
      "   -- ------------------------------------- 2.9/39.5 MB 2.8 MB/s eta 0:00:14\n",
      "   -- ------------------------------------- 2.9/39.5 MB 2.8 MB/s eta 0:00:14\n",
      "   --- ------------------------------------ 3.1/39.5 MB 2.7 MB/s eta 0:00:14\n",
      "   --- ------------------------------------ 3.3/39.5 MB 2.9 MB/s eta 0:00:13\n",
      "   --- ------------------------------------ 3.5/39.5 MB 3.0 MB/s eta 0:00:13\n",
      "   --- ------------------------------------ 3.6/39.5 MB 3.0 MB/s eta 0:00:13\n",
      "   --- ------------------------------------ 3.8/39.5 MB 3.0 MB/s eta 0:00:13\n",
      "   --- ------------------------------------ 3.9/39.5 MB 3.0 MB/s eta 0:00:12\n",
      "   ---- ----------------------------------- 4.0/39.5 MB 3.0 MB/s eta 0:00:12\n",
      "   ---- ----------------------------------- 4.1/39.5 MB 3.0 MB/s eta 0:00:12\n",
      "   ---- ----------------------------------- 4.2/39.5 MB 3.0 MB/s eta 0:00:12\n",
      "   ---- ----------------------------------- 4.4/39.5 MB 3.0 MB/s eta 0:00:12\n",
      "   ---- ----------------------------------- 4.5/39.5 MB 3.0 MB/s eta 0:00:12\n",
      "   ---- ----------------------------------- 4.6/39.5 MB 3.0 MB/s eta 0:00:12\n",
      "   ---- ----------------------------------- 4.8/39.5 MB 3.0 MB/s eta 0:00:12\n",
      "   ---- ----------------------------------- 4.9/39.5 MB 3.0 MB/s eta 0:00:12\n",
      "   ----- ---------------------------------- 5.1/39.5 MB 3.1 MB/s eta 0:00:12\n",
      "   ----- ---------------------------------- 5.2/39.5 MB 3.1 MB/s eta 0:00:12\n",
      "   ----- ---------------------------------- 5.3/39.5 MB 3.1 MB/s eta 0:00:12\n",
      "   ----- ---------------------------------- 5.5/39.5 MB 3.1 MB/s eta 0:00:11\n",
      "   ----- ---------------------------------- 5.7/39.5 MB 3.2 MB/s eta 0:00:11\n",
      "   ------ --------------------------------- 6.0/39.5 MB 3.2 MB/s eta 0:00:11\n",
      "   ------ --------------------------------- 6.2/39.5 MB 3.3 MB/s eta 0:00:11\n",
      "   ------ --------------------------------- 6.4/39.5 MB 3.3 MB/s eta 0:00:11\n",
      "   ------ --------------------------------- 6.6/39.5 MB 3.3 MB/s eta 0:00:10\n",
      "   ------ --------------------------------- 6.7/39.5 MB 3.3 MB/s eta 0:00:10\n",
      "   ------ --------------------------------- 6.9/39.5 MB 3.3 MB/s eta 0:00:10\n",
      "   ------- -------------------------------- 7.1/39.5 MB 3.4 MB/s eta 0:00:10\n",
      "   ------- -------------------------------- 7.4/39.5 MB 3.5 MB/s eta 0:00:10\n",
      "   ------- -------------------------------- 7.6/39.5 MB 3.5 MB/s eta 0:00:10\n",
      "   ------- -------------------------------- 7.8/39.5 MB 3.5 MB/s eta 0:00:09\n",
      "   -------- ------------------------------- 8.1/39.5 MB 3.6 MB/s eta 0:00:09\n",
      "   -------- ------------------------------- 8.4/39.5 MB 3.6 MB/s eta 0:00:09\n",
      "   -------- ------------------------------- 8.6/39.5 MB 3.6 MB/s eta 0:00:09\n",
      "   -------- ------------------------------- 8.8/39.5 MB 3.7 MB/s eta 0:00:09\n",
      "   --------- ------------------------------ 9.0/39.5 MB 3.7 MB/s eta 0:00:09\n",
      "   --------- ------------------------------ 9.2/39.5 MB 3.7 MB/s eta 0:00:09\n",
      "   --------- ------------------------------ 9.5/39.5 MB 3.7 MB/s eta 0:00:09\n",
      "   --------- ------------------------------ 9.7/39.5 MB 3.8 MB/s eta 0:00:08\n",
      "   ---------- ----------------------------- 9.9/39.5 MB 3.8 MB/s eta 0:00:08\n",
      "   ---------- ----------------------------- 10.1/39.5 MB 3.8 MB/s eta 0:00:08\n",
      "   ---------- ----------------------------- 10.3/39.5 MB 4.0 MB/s eta 0:00:08\n",
      "   ---------- ----------------------------- 10.5/39.5 MB 4.4 MB/s eta 0:00:07\n",
      "   ---------- ----------------------------- 10.8/39.5 MB 4.5 MB/s eta 0:00:07\n",
      "   ----------- ---------------------------- 11.0/39.5 MB 4.7 MB/s eta 0:00:07\n",
      "   ----------- ---------------------------- 11.2/39.5 MB 4.7 MB/s eta 0:00:06\n",
      "   ----------- ---------------------------- 11.5/39.5 MB 4.7 MB/s eta 0:00:06\n",
      "   ----------- ---------------------------- 11.7/39.5 MB 4.7 MB/s eta 0:00:06\n",
      "   ----------- ---------------------------- 11.7/39.5 MB 4.7 MB/s eta 0:00:06\n",
      "   ------------ --------------------------- 12.1/39.5 MB 4.7 MB/s eta 0:00:06\n",
      "   ------------ --------------------------- 12.4/39.5 MB 4.7 MB/s eta 0:00:06\n",
      "   ------------ --------------------------- 12.6/39.5 MB 4.7 MB/s eta 0:00:06\n",
      "   ------------- -------------------------- 12.9/39.5 MB 4.7 MB/s eta 0:00:06\n",
      "   ------------- -------------------------- 13.1/39.5 MB 4.7 MB/s eta 0:00:06\n",
      "   ------------- -------------------------- 13.3/39.5 MB 4.8 MB/s eta 0:00:06\n",
      "   ------------- -------------------------- 13.6/39.5 MB 4.9 MB/s eta 0:00:06\n",
      "   ------------- -------------------------- 13.8/39.5 MB 4.8 MB/s eta 0:00:06\n",
      "   -------------- ------------------------- 14.0/39.5 MB 4.9 MB/s eta 0:00:06\n",
      "   -------------- ------------------------- 14.2/39.5 MB 5.0 MB/s eta 0:00:06\n",
      "   -------------- ------------------------- 14.5/39.5 MB 5.1 MB/s eta 0:00:05\n",
      "   -------------- ------------------------- 14.7/39.5 MB 5.2 MB/s eta 0:00:05\n",
      "   --------------- ------------------------ 15.0/39.5 MB 5.2 MB/s eta 0:00:05\n",
      "   --------------- ------------------------ 15.0/39.5 MB 5.2 MB/s eta 0:00:05\n",
      "   --------------- ------------------------ 15.0/39.5 MB 5.2 MB/s eta 0:00:05\n",
      "   --------------- ------------------------ 15.2/39.5 MB 5.1 MB/s eta 0:00:05\n",
      "   --------------- ------------------------ 15.4/39.5 MB 5.2 MB/s eta 0:00:05\n",
      "   --------------- ------------------------ 15.5/39.5 MB 5.1 MB/s eta 0:00:05\n",
      "   --------------- ------------------------ 15.6/39.5 MB 5.1 MB/s eta 0:00:05\n",
      "   ---------------- ----------------------- 15.8/39.5 MB 5.1 MB/s eta 0:00:05\n",
      "   ---------------- ----------------------- 16.0/39.5 MB 5.0 MB/s eta 0:00:05\n",
      "   ---------------- ----------------------- 16.1/39.5 MB 5.0 MB/s eta 0:00:05\n",
      "   ---------------- ----------------------- 16.3/39.5 MB 5.0 MB/s eta 0:00:05\n",
      "   ---------------- ----------------------- 16.5/39.5 MB 5.0 MB/s eta 0:00:05\n",
      "   ---------------- ----------------------- 16.6/39.5 MB 5.0 MB/s eta 0:00:05\n",
      "   ----------------- ---------------------- 16.8/39.5 MB 5.0 MB/s eta 0:00:05\n",
      "   ----------------- ---------------------- 17.0/39.5 MB 5.1 MB/s eta 0:00:05\n",
      "   ----------------- ---------------------- 17.3/39.5 MB 5.0 MB/s eta 0:00:05\n",
      "   ----------------- ---------------------- 17.5/39.5 MB 5.1 MB/s eta 0:00:05\n",
      "   ----------------- ---------------------- 17.7/39.5 MB 5.1 MB/s eta 0:00:05\n",
      "   ------------------ --------------------- 17.9/39.5 MB 5.1 MB/s eta 0:00:05\n",
      "   ------------------ --------------------- 18.1/39.5 MB 5.1 MB/s eta 0:00:05\n",
      "   ------------------ --------------------- 18.3/39.5 MB 5.0 MB/s eta 0:00:05\n",
      "   ------------------ --------------------- 18.5/39.5 MB 5.0 MB/s eta 0:00:05\n",
      "   ------------------ --------------------- 18.6/39.5 MB 5.0 MB/s eta 0:00:05\n",
      "   ------------------- -------------------- 18.8/39.5 MB 5.0 MB/s eta 0:00:05\n",
      "   ------------------- -------------------- 19.0/39.5 MB 5.0 MB/s eta 0:00:05\n",
      "   ------------------- -------------------- 19.2/39.5 MB 5.0 MB/s eta 0:00:05\n",
      "   ------------------- -------------------- 19.4/39.5 MB 5.0 MB/s eta 0:00:05\n",
      "   ------------------- -------------------- 19.6/39.5 MB 5.0 MB/s eta 0:00:04\n",
      "   -------------------- ------------------- 19.8/39.5 MB 5.0 MB/s eta 0:00:04\n",
      "   -------------------- ------------------- 20.0/39.5 MB 5.0 MB/s eta 0:00:04\n",
      "   -------------------- ------------------- 20.2/39.5 MB 5.0 MB/s eta 0:00:04\n",
      "   -------------------- ------------------- 20.5/39.5 MB 5.0 MB/s eta 0:00:04\n",
      "   -------------------- ------------------- 20.6/39.5 MB 5.0 MB/s eta 0:00:04\n",
      "   --------------------- ------------------ 20.8/39.5 MB 5.0 MB/s eta 0:00:04\n",
      "   --------------------- ------------------ 20.9/39.5 MB 4.9 MB/s eta 0:00:04\n",
      "   --------------------- ------------------ 21.1/39.5 MB 4.9 MB/s eta 0:00:04\n",
      "   --------------------- ------------------ 21.3/39.5 MB 4.9 MB/s eta 0:00:04\n",
      "   --------------------- ------------------ 21.5/39.5 MB 4.9 MB/s eta 0:00:04\n",
      "   ---------------------- ----------------- 21.7/39.5 MB 4.9 MB/s eta 0:00:04\n",
      "   ---------------------- ----------------- 21.9/39.5 MB 4.9 MB/s eta 0:00:04\n",
      "   ---------------------- ----------------- 22.0/39.5 MB 5.0 MB/s eta 0:00:04\n",
      "   ---------------------- ----------------- 22.2/39.5 MB 4.9 MB/s eta 0:00:04\n",
      "   ---------------------- ----------------- 22.4/39.5 MB 4.8 MB/s eta 0:00:04\n",
      "   ---------------------- ----------------- 22.6/39.5 MB 4.8 MB/s eta 0:00:04\n",
      "   ----------------------- ---------------- 22.8/39.5 MB 4.8 MB/s eta 0:00:04\n",
      "   ----------------------- ---------------- 22.9/39.5 MB 4.8 MB/s eta 0:00:04\n",
      "   ----------------------- ---------------- 23.2/39.5 MB 4.8 MB/s eta 0:00:04\n",
      "   ----------------------- ---------------- 23.4/39.5 MB 4.8 MB/s eta 0:00:04\n",
      "   ----------------------- ---------------- 23.6/39.5 MB 4.7 MB/s eta 0:00:04\n",
      "   ------------------------ --------------- 23.8/39.5 MB 4.7 MB/s eta 0:00:04\n",
      "   ------------------------ --------------- 24.0/39.5 MB 4.7 MB/s eta 0:00:04\n",
      "   ------------------------ --------------- 24.2/39.5 MB 4.7 MB/s eta 0:00:04\n",
      "   ------------------------ --------------- 24.4/39.5 MB 4.7 MB/s eta 0:00:04\n",
      "   ------------------------ --------------- 24.6/39.5 MB 4.7 MB/s eta 0:00:04\n",
      "   ------------------------- -------------- 24.7/39.5 MB 4.7 MB/s eta 0:00:04\n",
      "   ------------------------- -------------- 25.0/39.5 MB 4.6 MB/s eta 0:00:04\n",
      "   ------------------------- -------------- 25.1/39.5 MB 4.6 MB/s eta 0:00:04\n",
      "   ------------------------- -------------- 25.3/39.5 MB 4.8 MB/s eta 0:00:03\n",
      "   ------------------------- -------------- 25.6/39.5 MB 4.9 MB/s eta 0:00:03\n",
      "   -------------------------- ------------- 25.7/39.5 MB 4.9 MB/s eta 0:00:03\n",
      "   -------------------------- ------------- 26.0/39.5 MB 4.9 MB/s eta 0:00:03\n",
      "   -------------------------- ------------- 26.2/39.5 MB 4.9 MB/s eta 0:00:03\n",
      "   -------------------------- ------------- 26.3/39.5 MB 4.9 MB/s eta 0:00:03\n",
      "   -------------------------- ------------- 26.5/39.5 MB 4.9 MB/s eta 0:00:03\n",
      "   --------------------------- ------------ 26.7/39.5 MB 4.9 MB/s eta 0:00:03\n",
      "   --------------------------- ------------ 26.9/39.5 MB 5.0 MB/s eta 0:00:03\n",
      "   --------------------------- ------------ 27.1/39.5 MB 4.9 MB/s eta 0:00:03\n",
      "   --------------------------- ------------ 27.4/39.5 MB 4.9 MB/s eta 0:00:03\n",
      "   --------------------------- ------------ 27.5/39.5 MB 4.8 MB/s eta 0:00:03\n",
      "   ---------------------------- ----------- 27.7/39.5 MB 4.8 MB/s eta 0:00:03\n",
      "   ---------------------------- ----------- 27.9/39.5 MB 4.8 MB/s eta 0:00:03\n",
      "   ---------------------------- ----------- 28.0/39.5 MB 4.8 MB/s eta 0:00:03\n",
      "   ---------------------------- ----------- 28.2/39.5 MB 4.8 MB/s eta 0:00:03\n",
      "   ---------------------------- ----------- 28.3/39.5 MB 4.8 MB/s eta 0:00:03\n",
      "   ---------------------------- ----------- 28.4/39.5 MB 4.7 MB/s eta 0:00:03\n",
      "   ----------------------------- ---------- 28.7/39.5 MB 4.8 MB/s eta 0:00:03\n",
      "   ----------------------------- ---------- 28.9/39.5 MB 4.8 MB/s eta 0:00:03\n",
      "   ----------------------------- ---------- 29.2/39.5 MB 4.8 MB/s eta 0:00:03\n",
      "   ----------------------------- ---------- 29.4/39.5 MB 4.8 MB/s eta 0:00:03\n",
      "   ----------------------------- ---------- 29.5/39.5 MB 4.8 MB/s eta 0:00:03\n",
      "   ------------------------------ --------- 29.7/39.5 MB 4.7 MB/s eta 0:00:03\n",
      "   ------------------------------ --------- 29.9/39.5 MB 4.7 MB/s eta 0:00:03\n",
      "   ------------------------------ --------- 29.9/39.5 MB 4.7 MB/s eta 0:00:03\n",
      "   ------------------------------ --------- 29.9/39.5 MB 4.7 MB/s eta 0:00:03\n",
      "   ------------------------------ --------- 30.0/39.5 MB 4.5 MB/s eta 0:00:03\n",
      "   ------------------------------ --------- 30.1/39.5 MB 4.5 MB/s eta 0:00:03\n",
      "   ------------------------------ --------- 30.3/39.5 MB 4.5 MB/s eta 0:00:03\n",
      "   ------------------------------ --------- 30.5/39.5 MB 4.5 MB/s eta 0:00:03\n",
      "   ------------------------------- -------- 30.7/39.5 MB 4.5 MB/s eta 0:00:02\n",
      "   ------------------------------- -------- 30.9/39.5 MB 4.4 MB/s eta 0:00:02\n",
      "   ------------------------------- -------- 31.0/39.5 MB 4.5 MB/s eta 0:00:02\n",
      "   ------------------------------- -------- 31.2/39.5 MB 4.5 MB/s eta 0:00:02\n",
      "   ------------------------------- -------- 31.4/39.5 MB 4.5 MB/s eta 0:00:02\n",
      "   -------------------------------- ------- 31.6/39.5 MB 4.5 MB/s eta 0:00:02\n",
      "   -------------------------------- ------- 31.8/39.5 MB 4.5 MB/s eta 0:00:02\n",
      "   -------------------------------- ------- 32.0/39.5 MB 4.5 MB/s eta 0:00:02\n",
      "   -------------------------------- ------- 32.3/39.5 MB 4.5 MB/s eta 0:00:02\n",
      "   -------------------------------- ------- 32.5/39.5 MB 4.5 MB/s eta 0:00:02\n",
      "   --------------------------------- ------ 32.7/39.5 MB 4.5 MB/s eta 0:00:02\n",
      "   --------------------------------- ------ 32.9/39.5 MB 4.5 MB/s eta 0:00:02\n",
      "   --------------------------------- ------ 33.1/39.5 MB 4.5 MB/s eta 0:00:02\n",
      "   --------------------------------- ------ 33.3/39.5 MB 4.5 MB/s eta 0:00:02\n",
      "   --------------------------------- ------ 33.5/39.5 MB 4.5 MB/s eta 0:00:02\n",
      "   ---------------------------------- ----- 33.7/39.5 MB 4.5 MB/s eta 0:00:02\n",
      "   ---------------------------------- ----- 34.0/39.5 MB 4.5 MB/s eta 0:00:02\n",
      "   ---------------------------------- ----- 34.1/39.5 MB 4.5 MB/s eta 0:00:02\n",
      "   ---------------------------------- ----- 34.3/39.5 MB 4.5 MB/s eta 0:00:02\n",
      "   ---------------------------------- ----- 34.5/39.5 MB 4.5 MB/s eta 0:00:02\n",
      "   ----------------------------------- ---- 34.7/39.5 MB 4.5 MB/s eta 0:00:02\n",
      "   ----------------------------------- ---- 34.9/39.5 MB 4.5 MB/s eta 0:00:02\n",
      "   ----------------------------------- ---- 35.1/39.5 MB 4.5 MB/s eta 0:00:01\n",
      "   ----------------------------------- ---- 35.3/39.5 MB 4.5 MB/s eta 0:00:01\n",
      "   ----------------------------------- ---- 35.5/39.5 MB 4.5 MB/s eta 0:00:01\n",
      "   ------------------------------------ --- 35.7/39.5 MB 4.5 MB/s eta 0:00:01\n",
      "   ------------------------------------ --- 35.9/39.5 MB 4.6 MB/s eta 0:00:01\n",
      "   ------------------------------------ --- 36.1/39.5 MB 4.6 MB/s eta 0:00:01\n",
      "   ------------------------------------ --- 36.3/39.5 MB 4.6 MB/s eta 0:00:01\n",
      "   ------------------------------------- -- 36.6/39.5 MB 4.6 MB/s eta 0:00:01\n",
      "   ------------------------------------- -- 36.8/39.5 MB 4.6 MB/s eta 0:00:01\n",
      "   ------------------------------------- -- 37.0/39.5 MB 4.6 MB/s eta 0:00:01\n",
      "   ------------------------------------- -- 37.2/39.5 MB 4.6 MB/s eta 0:00:01\n",
      "   ------------------------------------- -- 37.4/39.5 MB 4.6 MB/s eta 0:00:01\n",
      "   -------------------------------------- - 37.6/39.5 MB 4.6 MB/s eta 0:00:01\n",
      "   -------------------------------------- - 37.8/39.5 MB 4.6 MB/s eta 0:00:01\n",
      "   -------------------------------------- - 37.9/39.5 MB 4.6 MB/s eta 0:00:01\n",
      "   -------------------------------------- - 38.2/39.5 MB 4.6 MB/s eta 0:00:01\n",
      "   -------------------------------------- - 38.4/39.5 MB 4.6 MB/s eta 0:00:01\n",
      "   ---------------------------------------  38.6/39.5 MB 4.6 MB/s eta 0:00:01\n",
      "   ---------------------------------------  38.8/39.5 MB 4.7 MB/s eta 0:00:01\n",
      "   ---------------------------------------  39.0/39.5 MB 4.6 MB/s eta 0:00:01\n",
      "   ---------------------------------------  39.1/39.5 MB 4.6 MB/s eta 0:00:01\n",
      "   ---------------------------------------  39.3/39.5 MB 4.6 MB/s eta 0:00:01\n",
      "   ---------------------------------------  39.5/39.5 MB 4.6 MB/s eta 0:00:01\n",
      "   ---------------------------------------  39.5/39.5 MB 4.6 MB/s eta 0:00:01\n",
      "   ---------------------------------------  39.5/39.5 MB 4.6 MB/s eta 0:00:01\n",
      "   ---------------------------------------  39.5/39.5 MB 4.6 MB/s eta 0:00:01\n",
      "   ---------------------------------------  39.5/39.5 MB 4.6 MB/s eta 0:00:01\n",
      "   ---------------------------------------  39.5/39.5 MB 4.6 MB/s eta 0:00:01\n",
      "   ---------------------------------------  39.5/39.5 MB 4.6 MB/s eta 0:00:01\n",
      "   ---------------------------------------  39.5/39.5 MB 4.6 MB/s eta 0:00:01\n",
      "   ---------------------------------------  39.5/39.5 MB 4.6 MB/s eta 0:00:01\n",
      "   ---------------------------------------  39.5/39.5 MB 4.6 MB/s eta 0:00:01\n",
      "   ---------------------------------------  39.5/39.5 MB 4.6 MB/s eta 0:00:01\n",
      "   ---------------------------------------  39.5/39.5 MB 4.6 MB/s eta 0:00:01\n",
      "   ---------------------------------------  39.5/39.5 MB 4.6 MB/s eta 0:00:01\n",
      "   ---------------------------------------- 39.5/39.5 MB 3.7 MB/s eta 0:00:00\n",
      "Installing collected packages: opencv-python\n",
      "Successfully installed opencv-python-4.11.0.86\n"
     ]
    }
   ],
   "source": [
    "!pip install opencv-python"
   ]
  },
  {
   "cell_type": "markdown",
   "metadata": {},
   "source": [
    "### Importing Required Libraries\n"
   ]
  },
  {
   "cell_type": "code",
   "execution_count": 3,
   "metadata": {},
   "outputs": [],
   "source": [
    "# Surpress any warnings:\n",
    "def warn(*args, **kwargs):\n",
    "    pass\n",
    "import warnings\n",
    "warnings.warn = warn\n",
    "\n",
    "import numpy as np\n",
    "import cv2 as cv\n",
    "from sklearn.cluster import MeanShift, estimate_bandwidth\n",
    "from mpl_toolkits import mplot3d\n",
    "import pandas as pd\n",
    "import matplotlib.pyplot as plt\n",
    "import seaborn as sns\n",
    "import math"
   ]
  },
  {
   "cell_type": "markdown",
   "metadata": {},
   "source": [
    "<p style=\"color:blue\">If you wish to learn in detail about how Mean Shift works before studying its applications, you can go to <a href=\"#E_1\"> How Mean Shift Works (Optional)</a> section first. </P> \n"
   ]
  },
  {
   "cell_type": "markdown",
   "metadata": {},
   "source": [
    "<h2 id=\"Exercise_1\">Mean Shift for Image Segmentation   </h2> \n"
   ]
  },
  {
   "cell_type": "markdown",
   "metadata": {},
   "source": [
    "### Pre-processing Image \n"
   ]
  },
  {
   "cell_type": "markdown",
   "metadata": {},
   "source": [
    "Mean Shift Clustering can be used for image segmentation. An image segmentation attempts to cluster an image pixels according to their color. It then replaces each pixel's color with the mean color of its cluster. This way considerably reduces the number of different colors in the image. So, each cluster represents the mode or the most common intensities. Every pixel is labeled according to the cluster it’s nearest to. Consider the following image.\n"
   ]
  },
  {
   "cell_type": "markdown",
   "metadata": {},
   "source": [
    "Download the image:\n"
   ]
  },
  {
   "cell_type": "code",
   "execution_count": null,
   "metadata": {},
   "outputs": [],
   "source": [
    "import skillsnetwork\n",
    "await skillsnetwork.prepare(\"https://cf-courses-data.s3.us.cloud-object-storage.appdomain.cloud/IBM-ML0187EN-SkillsNetwork/labs/module%202/peppers.jpeg\", overwrite=True)"
   ]
  },
  {
   "cell_type": "code",
   "execution_count": 11,
   "metadata": {},
   "outputs": [
    {
     "name": "stdout",
     "output_type": "stream",
     "text": [
      "Download complete! Image saved as peppers.jpeg.\n"
     ]
    }
   ],
   "source": [
    "# Alternative dowload method\n",
    "import requests\n",
    "import os\n",
    "\n",
    "url = \"https://cf-courses-data.s3.us.cloud-object-storage.appdomain.cloud/IBM-ML0187EN-SkillsNetwork/labs/module%202/peppers.jpeg\"\n",
    "filename = \"peppers.jpeg\"\n",
    "\n",
    "# Check if the file exists and remove it (optional overwrite)\n",
    "if os.path.exists(filename):\n",
    "    os.remove(filename)\n",
    "\n",
    "# Download and save the file\n",
    "response = requests.get(url)\n",
    "with open(filename, \"wb\") as file:\n",
    "    file.write(response.content)\n",
    "\n",
    "print(f\"Download complete! Image saved as {filename}.\")"
   ]
  },
  {
   "cell_type": "code",
   "execution_count": 12,
   "metadata": {},
   "outputs": [
    {
     "data": {
      "image/png": "[encoded data removed]",
      "text/plain": [
       "<Figure size 640x480 with 1 Axes>"
      ]
     },
     "metadata": {},
     "output_type": "display_data"
    }
   ],
   "source": [
    "img = cv.imread('peppers.jpeg')\n",
    "plt.imshow(cv.cvtColor(img, cv.COLOR_BGR2RGB))\n",
    "plt.show()"
   ]
  },
  {
   "cell_type": "markdown",
   "metadata": {},
   "source": [
    "We will pre-process the image by smoothing it.  \n"
   ]
  },
  {
   "cell_type": "code",
   "execution_count": null,
   "metadata": {},
   "outputs": [],
   "source": [
    "img = cv.medianBlur(img, 7)\n",
    "plt.imshow(cv.cvtColor(img, cv.COLOR_BGR2RGB))"
   ]
  },
  {
   "cell_type": "markdown",
   "metadata": {},
   "source": [
    "We can plot the Red, Green, Blue (RGB) values as 3D points. \n"
   ]
  },
  {
   "cell_type": "code",
   "execution_count": null,
   "metadata": {},
   "outputs": [],
   "source": [
    "ax = plt.axes(projection =\"3d\")\n",
    "ax.scatter3D(img[:,:,0],img[:,:,1],img[:,:,2])\n",
    "ax.set_title('Pixel Values ')\n",
    "plt.show()"
   ]
  },
  {
   "cell_type": "markdown",
   "metadata": {},
   "source": [
    "We have a rectangular image with three channels.   \n"
   ]
  },
  {
   "cell_type": "code",
   "execution_count": null,
   "metadata": {},
   "outputs": [],
   "source": [
    "img.shape"
   ]
  },
  {
   "cell_type": "markdown",
   "metadata": {},
   "source": [
    "We convert the image to 194 x 259 rows (194 x 259 = 50246, which is the shape of our matrix) for each pixel, and three columns for each color channel (Red, Green, Blue), as a numpy array of <code>X</code>:\n"
   ]
  },
  {
   "cell_type": "code",
   "execution_count": null,
   "metadata": {},
   "outputs": [],
   "source": [
    "X = img.reshape((-1,3))\n",
    "print(\"shape: \",X.shape)\n",
    "print(\"data type   : \",X.dtype)"
   ]
  },
  {
   "cell_type": "markdown",
   "metadata": {},
   "source": [
    "As we see, the data type is `unit8`, so, we need to cast it to be a `float32`:\n"
   ]
  },
  {
   "cell_type": "code",
   "execution_count": null,
   "metadata": {},
   "outputs": [],
   "source": [
    "X = np.float32(X)"
   ]
  },
  {
   "cell_type": "markdown",
   "metadata": {},
   "source": [
    "### Apply Mean Shift to the Image \n"
   ]
  },
  {
   "cell_type": "markdown",
   "metadata": {},
   "source": [
    "Estimate the bandwidth to use with the mean-shift algorithm, using the <code>estimate_bandwidth</code> function:\n",
    "- <code>X</code>: array-like of shape <code>(n_samples, n_features)</code>\n",
    "Input points.\n",
    "- <code>quantile</code>: float, default=0.3 Should be between [0, 1], 0.5 means that the median of all pairwise distances is used.\n",
    "- <code>n_samples</code>: int, The number of samples to be used. If not given, all samples are to be used.\n"
   ]
  },
  {
   "cell_type": "code",
   "execution_count": null,
   "metadata": {},
   "outputs": [],
   "source": [
    "bandwidth = estimate_bandwidth(X, quantile=.06, n_samples=3000)\n",
    "bandwidth "
   ]
  },
  {
   "cell_type": "markdown",
   "metadata": {},
   "source": [
    "We can create a <code>MeanShift</code> object in sklearn with the following parameters:\n",
    "- <code>bandwidth</code>:float, default=None\n",
    "Bandwidth used in the RBF kernel.\n",
    "- <code>max_itert</code>: (default=300) Maximum number of iterations per seed point before the clustering operation terminates (for that seed point), if has not converged yet.\n",
    "- <code>bin_seeding</code> :if true, initial kernel locations are not locations of all points, but rather the location of the discretized version of points.\n",
    "\n",
    "We then fit the model.\n"
   ]
  },
  {
   "cell_type": "code",
   "execution_count": null,
   "metadata": {},
   "outputs": [],
   "source": [
    "ms = MeanShift(bandwidth=bandwidth,bin_seeding=True)\n",
    "ms.fit(X)"
   ]
  },
  {
   "cell_type": "markdown",
   "metadata": {},
   "source": [
    "Now, we have the label corresponding to the label of each row.\n"
   ]
  },
  {
   "cell_type": "code",
   "execution_count": null,
   "metadata": {},
   "outputs": [],
   "source": [
    "labeled=ms.labels_\n",
    "labeled"
   ]
  },
  {
   "cell_type": "markdown",
   "metadata": {},
   "source": [
    "For each sample, we can find the assigned clusters:\n"
   ]
  },
  {
   "cell_type": "code",
   "execution_count": null,
   "metadata": {},
   "outputs": [],
   "source": [
    "clusters=ms.predict(X)\n",
    "clusters"
   ]
  },
  {
   "cell_type": "markdown",
   "metadata": {},
   "source": [
    "We can list the unique clusters.  \n"
   ]
  },
  {
   "cell_type": "code",
   "execution_count": null,
   "metadata": {},
   "outputs": [],
   "source": [
    "np.unique(labeled)"
   ]
  },
  {
   "cell_type": "markdown",
   "metadata": {},
   "source": [
    "We can also list the actual cluster centroid locations, which are also the RGB values:\n"
   ]
  },
  {
   "cell_type": "code",
   "execution_count": null,
   "metadata": {},
   "outputs": [],
   "source": [
    "ms.cluster_centers_"
   ]
  },
  {
   "cell_type": "markdown",
   "metadata": {},
   "source": [
    "We can convert the clusters `unit8` datatype for images: \n"
   ]
  },
  {
   "cell_type": "code",
   "execution_count": null,
   "metadata": {},
   "outputs": [],
   "source": [
    "cluster_int8=np.uint8(ms.cluster_centers_)\n",
    "cluster_int8"
   ]
  },
  {
   "cell_type": "markdown",
   "metadata": {},
   "source": [
    "We can also estimate what cluster each sample belongs to, as follows: \n"
   ]
  },
  {
   "cell_type": "code",
   "execution_count": null,
   "metadata": {},
   "outputs": [],
   "source": [
    "ms.predict(X)"
   ]
  },
  {
   "cell_type": "code",
   "execution_count": null,
   "metadata": {},
   "outputs": [],
   "source": [
    "ax = plt.axes(projection =\"3d\")\n",
    "ax.scatter3D(img[:,:,0],img[:,:,1],img[:,:,2])\n",
    "ax.set_title('Pixel Values ')\n",
    "plt.show()\n",
    "\n",
    "ax = plt.axes(projection =\"3d\")\n",
    "ax.set_title('Pixel Cluster Values  ')\n",
    "ax.scatter3D(cluster_int8[:,0],cluster_int8[:,1],cluster_int8[:,2],color='red')\n",
    "plt.show()"
   ]
  },
  {
   "cell_type": "markdown",
   "metadata": {},
   "source": [
    "We can assign each data point to the cluster value and reshape it back  to a Rectangular image. \n"
   ]
  },
  {
   "cell_type": "code",
   "execution_count": null,
   "metadata": {},
   "outputs": [],
   "source": [
    "result=np.zeros(X.shape,dtype=np.uint8)\n",
    "\n",
    "for label in np.unique(labeled):\n",
    "    result[labeled==label,:]=cluster_int8[label,:]    \n",
    "    \n",
    "\n",
    "result=result.reshape(img.shape)"
   ]
  },
  {
   "cell_type": "code",
   "execution_count": null,
   "metadata": {},
   "outputs": [],
   "source": [
    "plt.imshow(cv.cvtColor(result, cv.COLOR_BGR2RGB))\n",
    "plt.show()"
   ]
  },
  {
   "cell_type": "markdown",
   "metadata": {},
   "source": [
    "We now plot each cluster, as a cluster value, and we see that each cluster corresponds to a different object. \n"
   ]
  },
  {
   "cell_type": "code",
   "execution_count": null,
   "metadata": {},
   "outputs": [],
   "source": [
    "for label in np.unique(labeled):\n",
    "    result=np.zeros(X.shape,dtype=np.uint8)\n",
    "    result[labeled==label,:]=cluster_int8[label,:]  \n",
    "    plt.imshow(cv.cvtColor(result.reshape(img.shape), cv.COLOR_BGR2RGB))\n",
    "    plt.show()"
   ]
  },
  {
   "cell_type": "markdown",
   "metadata": {},
   "source": [
    "Therefore, we have classified our images according to their different vegetable types, using the Mean Shift Clustering.\n"
   ]
  },
  {
   "cell_type": "markdown",
   "metadata": {},
   "source": [
    "## Exercises\n"
   ]
  },
  {
   "cell_type": "markdown",
   "metadata": {},
   "source": [
    "### Exercise 1 - Repeat the above image segmentation process for a new image on the internet\n"
   ]
  },
  {
   "cell_type": "markdown",
   "metadata": {},
   "source": [
    "Run the cell below to download the image from the web:\n"
   ]
  },
  {
   "cell_type": "code",
   "execution_count": null,
   "metadata": {},
   "outputs": [],
   "source": [
    "import requests \n",
    "url='https://www.plastform.ca/wp-content/themes/plastform/images/slider-image-2.jpg'\n",
    "name=\"my_file.jpg\"\n",
    "\n",
    "with open(name, 'wb') as file:\n",
    "    file.write(requests.get(url, stream=True).content)\n",
    "    \n",
    "img = cv.imread(name)\n",
    "plt.imshow(cv.cvtColor(img, cv.COLOR_BGR2RGB))\n",
    "plt.show()"
   ]
  },
  {
   "cell_type": "markdown",
   "metadata": {},
   "source": [
    "Now it's your turn to play around with the **MeanShift** algorithm.\n"
   ]
  },
  {
   "cell_type": "code",
   "execution_count": null,
   "metadata": {},
   "outputs": [],
   "source": [
    "# TO DO\n",
    "img = cv.medianBlur(img, 7)\n",
    "plt.imshow(cv.cvtColor(img, cv.COLOR_BGR2RGB))\n",
    "X = img.reshape((-1,3))\n",
    "X = np.float32(X)\n",
    "bandwidth = estimate_bandwidth(X, quantile=.06, n_samples=3000)\n",
    "ms = MeanShift(bandwidth=bandwidth,bin_seeding=True)\n",
    "ms.fit(X)\n",
    "labeled=ms.labels_\n",
    "cluster_int8=np.uint8(ms.cluster_centers_)\n",
    "result=np.zeros(X.shape,dtype=np.uint8)\n",
    "labeled=ms.labels_\n",
    "result=np.zeros(X.shape,dtype=np.uint8)"
   ]
  },
  {
   "cell_type": "code",
   "execution_count": null,
   "metadata": {},
   "outputs": [],
   "source": [
    "for label in np.unique(labeled):\n",
    "    result[labeled==label,:]=cluster_int8[label,:]    \n",
    "    \n",
    "    cluster_int8[label]\n",
    "result=result.reshape(img.shape)\n",
    "plt.imshow(cv.cvtColor(result, cv.COLOR_BGR2RGB))"
   ]
  },
  {
   "cell_type": "code",
   "execution_count": null,
   "metadata": {},
   "outputs": [],
   "source": [
    "for label in np.unique(labeled):\n",
    "    result=np.zeros(X.shape,dtype=np.uint8)\n",
    "    result[labeled==label,:]=cluster_int8[label,:]  \n",
    "    plt.imshow(cv.cvtColor(result.reshape(img.shape), cv.COLOR_BGR2RGB))\n",
    "    plt.show()"
   ]
  },
  {
   "cell_type": "markdown",
   "metadata": {},
   "source": [
    "<details>\n",
    "    <summary>Click here for Solution</summary>\n",
    "    \n",
    "```python\n",
    "img = cv.medianBlur(img, 7)\n",
    "plt.imshow(cv.cvtColor(img, cv.COLOR_BGR2RGB))\n",
    "X = img.reshape((-1,3))\n",
    "X = np.float32(X)\n",
    "bandwidth = estimate_bandwidth(X, quantile=.06, n_samples=3000)\n",
    "ms = MeanShift(bandwidth=bandwidth,bin_seeding=True)\n",
    "ms.fit(X)\n",
    "labeled=ms.labels_\n",
    "cluster_int8=np.uint8(ms.cluster_centers_)\n",
    "result=np.zeros(X.shape,dtype=np.uint8)\n",
    "labeled=ms.labels_\n",
    "result=np.zeros(X.shape,dtype=np.uint8)\n",
    "\n",
    "for label in np.unique(labeled):\n",
    "    result[labeled==label,:]=cluster_int8[label,:]    \n",
    "    \n",
    "    cluster_int8[label]\n",
    "result=result.reshape(img.shape)\n",
    "plt.imshow(cv.cvtColor(result, cv.COLOR_BGR2RGB))\n",
    "\n",
    "for label in np.unique(labeled):\n",
    "    result=np.zeros(X.shape,dtype=np.uint8)\n",
    "    result[labeled==label,:]=cluster_int8[label,:]  \n",
    "    plt.imshow(cv.cvtColor(result.reshape(img.shape), cv.COLOR_BGR2RGB))\n",
    "    plt.show()\n",
    "    \n",
    "```\n",
    "\n",
    "</details>\n"
   ]
  },
  {
   "cell_type": "markdown",
   "metadata": {},
   "source": [
    "### Exercise 2 - Mean Shift Applied to the  Titanic Dataset \n"
   ]
  },
  {
   "cell_type": "markdown",
   "metadata": {},
   "source": [
    "On April 15, 1912, the  Titanic collided with an iceberg and sank. When the Titanic sank, it killed 1502 out of 2224 passengers and crew. In this section you will apply Mean-Shift clustering on features such as age, gender, class, etc. We will then determine if there is a relationship between survival and the different clusters. The following table summarizes the data:\n"
   ]
  },
  {
   "cell_type": "markdown",
   "metadata": {},
   "source": [
    "<table>\n",
    "<tbody>\n",
    "<tr><th><b>Variable</b></th><th><b>Definition</b></th><th><b>Key</b></th></tr>\n",
    "<tr>\n",
    "<td>survival</td>\n",
    "<td>Survival</td>\n",
    "<td>0 = No, 1 = Yes</td>\n",
    "</tr>\n",
    "<tr>\n",
    "<td>pclass</td>\n",
    "<td>Ticket class</td>\n",
    "<td>1 = 1st, 2 = 2nd, 3 = 3rd</td>\n",
    "</tr>\n",
    "<tr>\n",
    "<td>sex</td>\n",
    "<td>Sex</td>\n",
    "<td></td>\n",
    "</tr>\n",
    "<tr>\n",
    "<td>Age</td>\n",
    "<td>Age in years</td>\n",
    "<td></td>\n",
    "</tr>\n",
    "<tr>\n",
    "<td>sibsp</td>\n",
    "<td># of siblings / spouses aboard the Titanic</td>\n",
    "<td></td>\n",
    "</tr>\n",
    "<tr>\n",
    "<td>parch</td>\n",
    "<td># of parents / children aboard the Titanic</td>\n",
    "<td></td>\n",
    "</tr>\n",
    "<tr>\n",
    "<td>ticket</td>\n",
    "<td>Ticket number</td>\n",
    "<td></td>\n",
    "</tr>\n",
    "<tr>\n",
    "<td>fare</td>\n",
    "<td>Passenger fare</td>\n",
    "<td></td>\n",
    "</tr>\n",
    "<tr>\n",
    "<td>cabin</td>\n",
    "<td>Cabin number</td>\n",
    "<td></td>\n",
    "</tr>\n",
    "<tr>\n",
    "<td>embarked</td>\n",
    "<td>Port of Embarkation</td>\n",
    "<td>C = Cherbourg, Q = Queenstown, S = Southampton</td>\n",
    "</tr>\n",
    "</tbody>\n",
    "</table>\n"
   ]
  },
  {
   "cell_type": "markdown",
   "metadata": {},
   "source": [
    "#### Data Pre-Processing: \n"
   ]
  },
  {
   "cell_type": "markdown",
   "metadata": {},
   "source": [
    "Let’s load the dataset.  \n"
   ]
  },
  {
   "cell_type": "code",
   "execution_count": null,
   "metadata": {},
   "outputs": [],
   "source": [
    "await skillsnetwork.prepare(\"https://cf-courses-data.s3.us.cloud-object-storage.appdomain.cloud/IBM-ML0187EN-SkillsNetwork/labs/module%202/titanic.csv\", overwrite=True)\n",
    "\n",
    "df = pd.read_csv(\"titanic.csv\")\n",
    "df.head()"
   ]
  },
  {
   "cell_type": "markdown",
   "metadata": {},
   "source": [
    "We can drop the following columns <code>'Name','Ticket','Cabin','PassengerId','Embarked' </code> for simplicity.\n"
   ]
  },
  {
   "cell_type": "code",
   "execution_count": null,
   "metadata": {},
   "outputs": [],
   "source": [
    "df=df.drop(columns=['Name','Ticket','Cabin','PassengerId','Embarked'])"
   ]
  },
  {
   "cell_type": "markdown",
   "metadata": {},
   "source": [
    "We will assign \"0\" to \"female\" sex, and \"1\" to \"male\" sex, known as feature binarization. \n"
   ]
  },
  {
   "cell_type": "code",
   "execution_count": null,
   "metadata": {},
   "outputs": [],
   "source": [
    "df.loc[df['Sex']!='male','Sex']=0\n",
    "df.loc[df['Sex']=='male','Sex']=1"
   ]
  },
  {
   "cell_type": "code",
   "execution_count": null,
   "metadata": {},
   "outputs": [],
   "source": [
    "df.head()"
   ]
  },
  {
   "cell_type": "markdown",
   "metadata": {},
   "source": [
    "We will check for missing values.   \n"
   ]
  },
  {
   "cell_type": "code",
   "execution_count": null,
   "metadata": {},
   "outputs": [],
   "source": [
    "df.isna().sum()"
   ]
  },
  {
   "cell_type": "markdown",
   "metadata": {},
   "source": [
    "Here, we replace the  missing values in age, with the average age.\n"
   ]
  },
  {
   "cell_type": "code",
   "execution_count": null,
   "metadata": {},
   "outputs": [],
   "source": [
    "df['Age'].fillna(df['Age'].mean(),inplace=True)"
   ]
  },
  {
   "cell_type": "markdown",
   "metadata": {},
   "source": [
    "We will assign the dataframe to X, for clustering, and drop our target, the <code>Survival</code>  column. \n"
   ]
  },
  {
   "cell_type": "code",
   "execution_count": null,
   "metadata": {},
   "outputs": [],
   "source": [
    "X=df.drop(columns=['Survived'])"
   ]
  },
  {
   "cell_type": "markdown",
   "metadata": {},
   "source": [
    "Now, we will standardize the data  <code>X</code>:\n"
   ]
  },
  {
   "cell_type": "code",
   "execution_count": null,
   "metadata": {},
   "outputs": [],
   "source": [
    "X=df.apply(lambda x: (x-x.mean())/(x.std()+0.0000001), axis=0)"
   ]
  },
  {
   "cell_type": "code",
   "execution_count": null,
   "metadata": {},
   "outputs": [],
   "source": [
    "X.head()"
   ]
  },
  {
   "cell_type": "markdown",
   "metadata": {},
   "source": [
    "#### Apply the mean-shift to Titanic data frame X:\n"
   ]
  },
  {
   "cell_type": "markdown",
   "metadata": {},
   "source": [
    "To apply the mean-shift algorithm to X, first use the <code>estimate_bandwidth</code> function to estimate the value for the bandwidth parameter. Then create a MeanShift object and fit it to X:\n"
   ]
  },
  {
   "cell_type": "code",
   "execution_count": null,
   "metadata": {},
   "outputs": [],
   "source": [
    "# TO DO\n",
    "bandwidth = estimate_bandwidth(X)\n",
    "ms = MeanShift(bandwidth=bandwidth , bin_seeding=True)\n",
    "ms.fit(X)"
   ]
  },
  {
   "cell_type": "markdown",
   "metadata": {},
   "source": [
    "<details>\n",
    "    <summary>Click here for Solution</summary>\n",
    "    \n",
    "```python\n",
    "bandwidth = estimate_bandwidth(X)\n",
    "ms = MeanShift(bandwidth=bandwidth , bin_seeding=True)\n",
    "ms.fit(X)\n",
    "```\n",
    "\n",
    "</details>\n"
   ]
  },
  {
   "cell_type": "markdown",
   "metadata": {},
   "source": [
    "Next, we append the clusters to the dataset for analysis. \n"
   ]
  },
  {
   "cell_type": "code",
   "execution_count": null,
   "metadata": {},
   "outputs": [],
   "source": [
    "X['cluster']=ms.labels_\n",
    "df['cluster']=ms.labels_"
   ]
  },
  {
   "cell_type": "markdown",
   "metadata": {},
   "source": [
    "Now, we group by clusters, to see that certain clusters have a larger chance of survival. \n"
   ]
  },
  {
   "cell_type": "code",
   "execution_count": null,
   "metadata": {},
   "outputs": [],
   "source": [
    "df.groupby('cluster').mean().sort_values(by=['Survived'], ascending=False)"
   ]
  },
  {
   "cell_type": "markdown",
   "metadata": {},
   "source": [
    "From the table above, we see that there are 7 clusters generated by the mean-shift analysis, each cluster contains the average percentage of survivors. \n",
    "\n",
    "For instance, cluster 5, has 100 % of survivors, with the average age of 35.3, passengers belonging to the 1st class, and the passengers who paid the highest fare, 512.33 per ticket. Interestingly, Cluster 6, has 0 % of survivors, with the average age of 61, also belonging to the 1st class and in the mid-range ticket fare. It is not surprising that the highest odds for survival were held by the younger and richer groups of passengers.\n"
   ]
  },
  {
   "cell_type": "markdown",
   "metadata": {
    "tags": []
   },
   "source": [
    "<h2 id=\"E_1\">How Mean Shift Works (Optional) </h2> \n"
   ]
  },
  {
   "cell_type": "markdown",
   "metadata": {},
   "source": [
    "Mean Shift algorithm starts by placing a circle centered on each instance; then for each circle it computes the mean of all the instances located within it, and it shifts the circle so that it is centered on the mean. Next, it iterates this mean-shifting step until all the circles stop moving (i.e., until each of them is centered on the mean of the instances it contains). Mean Shift shifts the circles in the direction of higher density, until each of them has found a local density maximum. Finally, all the instances whose circles have settled in the same place (or close enough) are assigned to the same cluster. \n",
    "\n",
    "In the following section, we will review Kernel Density Estimation, then we will derive the Mean Shift vector, and show how it finds the maximum values of the distribution. This section is optional and you can skip it and go to the next sections, where we apply the Mean Shift algorithm to the real data. \n"
   ]
  },
  {
   "cell_type": "markdown",
   "metadata": {},
   "source": [
    "<h3>Kernel Density Estimation </h3>\n"
   ]
  },
  {
   "cell_type": "markdown",
   "metadata": {},
   "source": [
    "Let's say we have $\\{\\boldsymbol{x}_{1},..,\\boldsymbol{x}_{n}\\}$ D  dimensional samples, it can be  difficult to calculate   the histogram for density estimation, but we can represent the density using  Kernel Density Estimation (KDE). The Kernel is a Function of $\\boldsymbol{x}$ and the sample $\\boldsymbol{x}_i$, for example, the  Gaussian kernel of the  $i-th$ sample is given by:\n"
   ]
  },
  {
   "cell_type": "markdown",
   "metadata": {},
   "source": [
    " $K_{h}(\\boldsymbol{x}-\\boldsymbol{x}_{i})={\\frac {1}{{\\sqrt {2\\pi h }^D} }}e^{-{\\frac {|\\boldsymbol{x}-\\boldsymbol{x}_{i}|^{2}}{2h^{2}}}}$\n"
   ]
  },
  {
   "cell_type": "markdown",
   "metadata": {},
   "source": [
    "$h$ is a bandwidth parameter and it is a free parameter, we can code the kernel in Python as a function of the distance  $|\\boldsymbol{x}-\\boldsymbol{x}_{i}|^{2}$ and $h$ :\n"
   ]
  },
  {
   "cell_type": "code",
   "execution_count": null,
   "metadata": {},
   "outputs": [],
   "source": [
    "def gaussian(d, h):\n",
    "    return np.exp(-0.5*((d/h))**2) / (h*math.sqrt(2*math.pi))"
   ]
  },
  {
   "cell_type": "markdown",
   "metadata": {},
   "source": [
    "There are many types of kernels, we chose the Gaussian Kernel for simplicity.\n"
   ]
  },
  {
   "cell_type": "markdown",
   "metadata": {},
   "source": [
    "We can calculate the Kernel  function  for $x_1=1$, which we will refer to as sample <code>s</code>, $x$ will be in the range between $-2<x<4$. \n",
    "We will try it for $h=1$ and $h=3$.\n"
   ]
  },
  {
   "cell_type": "code",
   "execution_count": null,
   "metadata": {},
   "outputs": [],
   "source": [
    "s=1 # a sample point\n",
    "\n",
    "x = np.linspace(-2, 4, num=200)\n",
    "dist=np.sqrt(((x-s)**2))\n",
    "kernel_1=gaussian(dist, 1)\n",
    "kernel_2=gaussian(dist, 3)"
   ]
  },
  {
   "cell_type": "markdown",
   "metadata": {},
   "source": [
    "We can plot the kernel functions for the different values of $h$ , and overlay the histogram, which is zero everywhere, except where the data point exists:\n"
   ]
  },
  {
   "cell_type": "code",
   "execution_count": null,
   "metadata": {},
   "outputs": [],
   "source": [
    "plt.plot(x,kernel_1,label='h=1')\n",
    "plt.plot(x,kernel_2,label='h=3')\n",
    "plt.plot(s,0,'x',label=\"$x_{1}$=1\")\n",
    "plt.hist(s, 10, facecolor='blue', alpha=0.5,label=\"Histogram\")\n",
    "plt.xlabel('x')\n",
    "plt.legend()\n",
    "plt.show()\n"
   ]
  },
  {
   "cell_type": "markdown",
   "metadata": {},
   "source": [
    "We see that for x close to our sample point ($x_{1}$ = 1), the gaussian kernel function returns larger values; for x far away from $x_{1}$, the kernel function gives smaller values that are approaching 0.\n"
   ]
  },
  {
   "cell_type": "markdown",
   "metadata": {},
   "source": [
    "For many samples the  KDE is given by:\n"
   ]
  },
  {
   "cell_type": "markdown",
   "metadata": {},
   "source": [
    " ${\\hat {f}}_{h}(x)={\\frac {1}{n h^{D}}}\\sum _{i=1}^{n}K_{h}(\\boldsymbol{x}-\\boldsymbol{x}_{i})$\n"
   ]
  },
  {
   "cell_type": "markdown",
   "metadata": {},
   "source": [
    "In Python, we generate the KDE with bandwith $h$ for set of point $x_i$, stored in the NumPy array <code>S</code>, in the range of $x$ as follows:\n"
   ]
  },
  {
   "cell_type": "code",
   "execution_count": null,
   "metadata": {},
   "outputs": [],
   "source": [
    "def kernel_density(S,x,h=1):\n",
    "\n",
    "    density=np.zeros((200))\n",
    "    for s in S:\n",
    "        #Determine the distance and kernel for each point \n",
    "        dist=np.sqrt(((x-s)**2))\n",
    "        kernel=gaussian(dist, h)\n",
    "        #Find the sum  \n",
    "        density+=kernel\n",
    "    #Normalize the sum  \n",
    "    density=density/density.sum() \n",
    "    \n",
    "    return density"
   ]
  },
  {
   "cell_type": "markdown",
   "metadata": {},
   "source": [
    "Consider the following data points:  \n"
   ]
  },
  {
   "cell_type": "code",
   "execution_count": null,
   "metadata": {
    "tags": []
   },
   "outputs": [],
   "source": [
    "S=np.zeros((200))\n",
    "S[0:100] = np.random.normal(-10, 1, 100)\n",
    "S[100:200]=np.random.normal(10, 1, 100)\n",
    "plt.plot(S,np.zeros((200)),'x')\n",
    "plt.xlabel(\"$x_{i}$\")\n",
    "plt.show()"
   ]
  },
  {
   "cell_type": "markdown",
   "metadata": {},
   "source": [
    "We can generate the density in a specified region $x$.\n"
   ]
  },
  {
   "cell_type": "code",
   "execution_count": null,
   "metadata": {},
   "outputs": [],
   "source": [
    "x = np.linspace(S.min()-3, S.max()+3, num=200)\n",
    "density=kernel_density(S,x)"
   ]
  },
  {
   "cell_type": "markdown",
   "metadata": {},
   "source": [
    "We can plot the results along with clusters locations. They should correspond to the two peaks of the distribution.   \n"
   ]
  },
  {
   "cell_type": "code",
   "execution_count": null,
   "metadata": {},
   "outputs": [],
   "source": [
    "plt.plot(x,density,label=\" KDE\")\n",
    "plt.plot(S,np.zeros((200,1)),'x',label=\"$x_{i}$\")\n",
    "plt.xlabel('x')\n",
    "plt.legend()\n",
    "plt.show()"
   ]
  },
  {
   "cell_type": "markdown",
   "metadata": {},
   "source": [
    "To find the two maximums we can apply the Gradient Ascent to each vector  $\\{\\boldsymbol{x}_{1},..,\\boldsymbol{x}_{n}\\}$:\n"
   ]
  },
  {
   "cell_type": "markdown",
   "metadata": {},
   "source": [
    "$ \\boldsymbol{\\hat{x}}^{k+1}_i := \\boldsymbol{\\hat{x}}^{k}_i + \\eta \\nabla {\\hat {f}}_{h}(\\boldsymbol{\\hat{x}}^{k}_i) $\n"
   ]
  },
  {
   "cell_type": "markdown",
   "metadata": {},
   "source": [
    "For example, we set for $\\boldsymbol{\\hat{x}}^{0}_{1}=\\boldsymbol{x}_1$, then apply:\n"
   ]
  },
  {
   "cell_type": "markdown",
   "metadata": {},
   "source": [
    "$ \\boldsymbol{\\hat{x}}^{k+1}_1 := \\boldsymbol{\\hat{x}}^{k}_1 + \\eta \\nabla {\\hat {f}}_{h}(\\boldsymbol{\\hat{x}}^{k}_1) $\n"
   ]
  },
  {
   "cell_type": "markdown",
   "metadata": {},
   "source": [
    " for $\\boldsymbol{\\hat{x}}^{0}_{2}=\\boldsymbol{x}_2$, then apply:\n"
   ]
  },
  {
   "cell_type": "markdown",
   "metadata": {},
   "source": [
    "$ \\boldsymbol{\\hat{x}}^{k+1}_2 := \\boldsymbol{\\hat{x}}^{k}_2 + \\eta \\nabla {\\hat {f}}_{h}(\\boldsymbol{\\hat{x}}^{k}_2) $\n"
   ]
  },
  {
   "cell_type": "markdown",
   "metadata": {},
   "source": [
    "Mean Shift is an alternative method for selecting a good value for $\\eta$ and $h$ , so that each $ \\boldsymbol{\\hat{x}}^{k+1}_i$ should approach the two maximums.\n"
   ]
  },
  {
   "cell_type": "markdown",
   "metadata": {},
   "source": [
    "<h3>Mean Shift From Scratch  </h3>\n"
   ]
  },
  {
   "cell_type": "markdown",
   "metadata": {},
   "source": [
    "In order to find the peak of the distribution, we calculate the gradient. The mean shift vector is proportional to the gradient and always points toward the direction of the maximum increase in density. The expression for the mean shift is shown here along with the Python code: \n"
   ]
  },
  {
   "cell_type": "markdown",
   "metadata": {},
   "source": [
    " $\\nabla  {\\hat {f}}_{h}(\\boldsymbol{x}) \\varpropto\\ \\boldsymbol{m}_h(\\boldsymbol{x})=\\frac{ \\sum_{i} K'(\\boldsymbol{x}_i - \\boldsymbol{x}) \\boldsymbol{x}_i } {\\sum_{i} K'(\\boldsymbol{x}_i - \\boldsymbol{x})}-\\boldsymbol{x} $\n"
   ]
  },
  {
   "cell_type": "markdown",
   "metadata": {},
   "source": [
    " where $K'$ is the derivative of the kernel,  we can output the mean shift values for <code>S</code> as follows:\n"
   ]
  },
  {
   "cell_type": "code",
   "execution_count": null,
   "metadata": {},
   "outputs": [],
   "source": [
    "mean_shift=((density.reshape(-1,1)*S).sum(0) / density.sum())-x"
   ]
  },
  {
   "cell_type": "markdown",
   "metadata": {},
   "source": [
    "If we overlay the mean shift value over the distribution, $\\boldsymbol{m}_h(\\boldsymbol{x})$, we will see that vectors point towards the two peaks.\n"
   ]
  },
  {
   "cell_type": "code",
   "execution_count": null,
   "metadata": {},
   "outputs": [],
   "source": [
    "plt.plot(x,density,label=\" KDE\")\n",
    "plt.plot(S,np.zeros((200,1)),'x',label=\"$x_{i}$\")\n",
    "plt.quiver(x, np.zeros((200,1)),mean_shift, np.zeros((200,1)), units='width',label=\"$m_{h}(x)$\")\n",
    "plt.xlabel('x')\n",
    "plt.legend()\n",
    "plt.show()"
   ]
  },
  {
   "cell_type": "markdown",
   "metadata": {},
   "source": [
    "By plugging in the value of  the mean shift vector into the expression  for gradient ascent, we get:\n"
   ]
  },
  {
   "cell_type": "markdown",
   "metadata": {},
   "source": [
    "$ \\boldsymbol{\\hat{x}}^{k+1}_i := \\boldsymbol{\\hat{x}}^{k}_i + \\eta \\nabla {\\hat {f}}_{h}(\\boldsymbol{\\hat{x}}^{k}_i) \\approx\\boldsymbol{x}^{k}_i +  \\boldsymbol{m}_h(\\boldsymbol{\\hat{x}}^{k}_i)$\n"
   ]
  },
  {
   "cell_type": "markdown",
   "metadata": {},
   "source": [
    "$ \\boldsymbol{\\hat{x}}^{k+1}_i := \\boldsymbol{\\hat{x}}^{k}_i +\\frac{ \\sum_{i} K(\\boldsymbol{x}_i -\\boldsymbol{\\hat{x}}^{k}_i) \\boldsymbol{x}_i } {\\sum_{i} K(\\boldsymbol{x}_i - \\boldsymbol{\\hat{x}}^{k}_i)}-\\boldsymbol{\\hat{x}}^{k}_i$\n"
   ]
  },
  {
   "cell_type": "markdown",
   "metadata": {},
   "source": [
    "$ \\boldsymbol{\\hat{x}}^{k+1}_i := \\frac{ \\sum_{i} K(\\boldsymbol{x}_i -\\boldsymbol{\\hat{x}}^{k}_i) \\boldsymbol{x}_i } {\\sum_{i} K(\\boldsymbol{x}_i - \\boldsymbol{\\hat{x}}^{k}_i)}$\n"
   ]
  },
  {
   "cell_type": "markdown",
   "metadata": {},
   "source": [
    "We can run the algorithm  for three iterations, each point should converge to the cluster centers :\n"
   ]
  },
  {
   "cell_type": "code",
   "execution_count": null,
   "metadata": {
    "tags": []
   },
   "outputs": [],
   "source": [
    "Xhat=np.copy(S.reshape(-1,1))\n",
    "S_=S.reshape(-1,1)\n",
    "\n",
    "\n",
    "for k in range(3):\n",
    "    plt.plot(x,density,label=\" KDE\")\n",
    "    plt.plot(Xhat,np.zeros((200,1)),'x',label=\"$\\hat{x}^{k}_i$,k=\"+str(k))\n",
    "    plt.xlabel('x')\n",
    "    plt.legend()\n",
    "    plt.show()\n",
    "  \n",
    "    for i,xhat in enumerate(Xhat):\n",
    "        dist=np.sqrt(((xhat-S_)**2).sum(1))\n",
    "        weight = gaussian(dist, 2.5)\n",
    "        Xhat[i] = (weight.reshape(-1,1)*S_).sum(0) / weight.sum()\n",
    "    "
   ]
  },
  {
   "cell_type": "markdown",
   "metadata": {},
   "source": [
    "In practice, we will drop many of the data points, as they get closer together. Here is a quick way. \n"
   ]
  },
  {
   "cell_type": "code",
   "execution_count": null,
   "metadata": {},
   "outputs": [],
   "source": [
    "np.unique(Xhat.astype(int))"
   ]
  },
  {
   "cell_type": "markdown",
   "metadata": {},
   "source": [
    "<h2>Authors</h2>\n"
   ]
  },
  {
   "cell_type": "markdown",
   "metadata": {},
   "source": [
    "<a href=\"https://www.linkedin.com/in/joseph-s-50398b136/?utm_medium=Exinfluencer&utm_source=Exinfluencer&utm_content=000026UJ&utm_term=10006555&utm_id=NA-SkillsNetwork-Channel-SkillsNetworkCoursesIBMML0187ENSkillsNetwork821-2023-01-01\">Joseph Santarcangelo </a> has a Ph.D. in Electrical Engineering, his research focused on using machine learning, signal processing, and computer vision to determine how videos impact human cognition. Joseph has been working for IBM since he completed his PhD.\n"
   ]
  },
  {
   "cell_type": "markdown",
   "metadata": {},
   "source": [
    "### Other Contributors\n"
   ]
  },
  {
   "cell_type": "markdown",
   "metadata": {},
   "source": [
    "[Roxanne Li](https://www.linkedin.com/in/roxanne-li/?utm_medium=Exinfluencer&utm_source=Exinfluencer&utm_content=000026UJ&utm_term=10006555&utm_id=NA-SkillsNetwork-Channel-SkillsNetworkCoursesIBMML0187ENSkillsNetwork821-2023-01-01) is a Data Science intern at IBM Skills Network, entering level-5 study in the Mathematics & Statistics undergraduate Coop program at McMaster University.\n"
   ]
  },
  {
   "cell_type": "markdown",
   "metadata": {},
   "source": [
    "<h2>Change Log</h2>\n"
   ]
  },
  {
   "cell_type": "markdown",
   "metadata": {},
   "source": [
    "<table>\n",
    "    <tr>\n",
    "        <th>Date (YYYY-MM-DD)</th>\n",
    "        <th>Version</th>\n",
    "        <th>Changed By</th>\n",
    "        <th>Change Description</th>\n",
    "    </tr>\n",
    "    <tr>\n",
    "        <td>2022-02-03</td>\n",
    "        <td>0.1</td>\n",
    "        <td>Joseph</td>\n",
    "        <td>First commit</td>\n",
    "    </tr>\n",
    "    <tr>\n",
    "        <td>2022-02-15</td>\n",
    "        <td>0.1</td>\n",
    "        <td>Svitlana Kramar</td>\n",
    "        <td>Edited Introductions</td>\n",
    "    </tr>\n",
    "    <tr>\n",
    "        <td>2022-05-25</td>\n",
    "        <td>0.2</td>\n",
    "        <td>Roxanne Li</td>\n",
    "        <td>Review and edit</td>\n",
    "    </tr>\n",
    "     <tr>\n",
    "        <td>2022-07-18</td>\n",
    "        <td>0.2</td>\n",
    "        <td>Svitlana Kramar</td>\n",
    "        <td>Final Edit</td>\n",
    "    </tr>\n",
    "</table>\n"
   ]
  },
  {
   "cell_type": "markdown",
   "metadata": {},
   "source": [
    "Copyright © 2020 IBM Corporation. All rights reserved.\n"
   ]
  }
 ],
 "metadata": {
  "kernelspec": {
   "display_name": "Python 3 (ipykernel)",
   "language": "python",
   "name": "python3"
  },
  "language_info": {
   "codemirror_mode": {
    "name": "ipython",
    "version": 3
   },
   "file_extension": ".py",
   "mimetype": "text/x-python",
   "name": "python",
   "nbconvert_exporter": "python",
   "pygments_lexer": "ipython3",
   "version": "3.11.5"
  }
 },
 "nbformat": 4,
 "nbformat_minor": 4
}
