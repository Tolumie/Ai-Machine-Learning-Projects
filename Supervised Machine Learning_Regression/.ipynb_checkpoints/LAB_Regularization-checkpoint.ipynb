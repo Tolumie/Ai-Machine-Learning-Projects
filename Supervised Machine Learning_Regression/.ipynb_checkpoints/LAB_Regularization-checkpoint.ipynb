{
 "cells": [
  {
   "cell_type": "markdown",
   "id": "252a8946-f67a-4856-8167-8a8f9e7bb886",
   "metadata": {},
   "source": [
    "# Machine Learning Foundation\n",
    "\n",
    "## Section 2, Part e: Regularization LAB\n"
   ]
  },
  {
   "cell_type": "markdown",
   "id": "54f366c9-4f64-492e-aef2-5718390f7eef",
   "metadata": {},
   "source": [
    "## Learning objectives\n",
    "\n",
    "By the end of this lesson, you will be able to:\n",
    "\n",
    "*   Implement data standardization\n",
    "*   Implement variants of regularized regression\n",
    "*   Combine data standardization with the train-test split procedure\n",
    "*   Implement regularization to prevent overfitting in regression problems\n"
   ]
  },
  {
   "cell_type": "code",
   "execution_count": null,
   "id": "dea5216d-fbcb-40c5-b0bb-fb7ca39e72f3",
   "metadata": {},
   "outputs": [],
   "source": [
    "import numpy as np\n",
    "import pandas as pd\n",
    "import matplotlib.pyplot as plt\n",
    "%matplotlib inline\n",
    "\n",
    "# Surpress warnings:\n",
    "def warn(*args, **kwargs):\n",
    "    pass\n",
    "import warnings\n",
    "warnings.warn = warn\n",
    "\n",
    "np.set_printoptions(precision=3, suppress=True)"
   ]
  },
  {
   "cell_type": "markdown",
   "id": "15e9af35-a191-48c0-a7bd-8170f883f22a",
   "metadata": {},
   "source": [
    "In the following cell we load the data and define some useful plotting functions.\n"
   ]
  },
  {
   "cell_type": "code",
   "execution_count": null,
   "id": "fda4b2a6-1abf-4e31-af6a-4540a5a5b988",
   "metadata": {},
   "outputs": [],
   "source": [
    "np.random.seed(72018)\n",
    "\n",
    "\n",
    "def to_2d(array):\n",
    "    return array.reshape(array.shape[0], -1)\n",
    "\n",
    "def plot_exponential_data():\n",
    "    data = np.exp(np.random.normal(size=1000))\n",
    "    plt.hist(data)\n",
    "    plt.show()\n",
    "    return data\n",
    "    \n",
    "def plot_square_normal_data():\n",
    "    data = np.square(np.random.normal(loc=5, size=1000))\n",
    "    plt.hist(data)\n",
    "    plt.show()\n",
    "    return data"
   ]
  },
  {
   "cell_type": "code",
   "execution_count": null,
   "id": "8c75fcc0-8bbe-44cd-9981-5af5b80e38fa",
   "metadata": {},
   "outputs": [],
   "source": [
    "!wget \"https://cf-courses-data.s3.us.cloud-object-storage.appdomain.cloud/IBM-ML240EN-SkillsNetwork/labs/data/boston_housing_clean.pickle\""
   ]
  },
  {
   "cell_type": "markdown",
   "id": "4bda4e1f-8385-47c5-a2b6-d934a7ef8319",
   "metadata": {},
   "source": [
    "### Loading in Boston Data\n"
   ]
  },
  {
   "cell_type": "code",
   "execution_count": null,
   "id": "6fe79dc3-ec9e-4b9b-bc44-595e3b2eeeb9",
   "metadata": {},
   "outputs": [],
   "source": [
    "with open('boston_housing_clean.pickle', 'rb') as to_read:\n",
    "    boston = pd.read_pickle(to_read)\n",
    "boston_data = boston['dataframe']\n",
    "boston_description = boston['description']\n",
    "\n",
    "# show the first 5 rows using dataframe.head() method\n",
    "print(\"The first 5 rows of the dataframe\") \n",
    "boston_data.head()"
   ]
  },
  {
   "cell_type": "markdown",
   "id": "690ef243-0462-4232-b7a7-60e7b4c6c7ba",
   "metadata": {},
   "source": [
    "## Data standardization\n"
   ]
  },
  {
   "cell_type": "markdown",
   "id": "2461287f-5167-4e94-978c-611a5d7d167e",
   "metadata": {},
   "source": [
    "**Standardizing** data refers to transforming each variable so that it more closely follows a **standard** normal distribution, with mean 0 and standard deviation 1.\n",
    "\n",
    "The [`StandardScaler`](http://scikit-learn.org/dev/modules/generated/sklearn.preprocessing.StandardScaler.html?utm_medium=Exinfluencer&utm_source=Exinfluencer&utm_content=000026UJ&utm_term=10006555&utm_id=NA-SkillsNetwork-Channel-SkillsNetworkCoursesIBMML240ENSkillsNetwork34171862-2022-01-01#sklearn.preprocessing.StandardScaler) object in SciKit Learn can do this.\n"
   ]
  },
  {
   "cell_type": "markdown",
   "id": "c23c8946-e25f-47df-b23f-f85ef6681c85",
   "metadata": {},
   "source": [
    "**Generate X and y**:\n"
   ]
  },
  {
   "cell_type": "code",
   "execution_count": null,
   "id": "47339283-6d06-4b41-ad23-ae32eb421f89",
   "metadata": {},
   "outputs": [],
   "source": [
    "y_col = \"MEDV\"\n",
    "\n",
    "X = boston_data.drop(y_col, axis=1)\n",
    "y = boston_data[y_col]"
   ]
  },
  {
   "cell_type": "markdown",
   "id": "bae62cda-7888-4af1-baae-576f95923add",
   "metadata": {},
   "source": [
    "**Import, fit, and transform using `StandardScaler`**\n"
   ]
  },
  {
   "cell_type": "code",
   "execution_count": null,
   "id": "e3278605-5911-4cf2-9024-963705b7aa4c",
   "metadata": {},
   "outputs": [],
   "source": [
    "from sklearn.preprocessing import StandardScaler\n",
    "\n",
    "s = StandardScaler()\n",
    "X_ss = s.fit_transform(X)"
   ]
  },
  {
   "cell_type": "markdown",
   "id": "337099f1-01e0-42a8-bf41-df92aebd8fa0",
   "metadata": {},
   "source": [
    "### Exercise:\n",
    "\n",
    "Confirm standard scaling\n"
   ]
  },
  {
   "cell_type": "markdown",
   "id": "bfbc0aeb-f952-4adf-9b6a-46d26ae51e09",
   "metadata": {},
   "source": [
    "Hint:\n"
   ]
  },
  {
   "cell_type": "code",
   "execution_count": null,
   "id": "27e8528d-91ba-4808-81a0-1a0fb336f40e",
   "metadata": {},
   "outputs": [],
   "source": [
    "a = np.array([[1, 2, 3], \n",
    "              [4, 5, 6]]) \n",
    "print(a) # 2 rows, 3 columns"
   ]
  },
  {
   "cell_type": "code",
   "execution_count": null,
   "id": "8e6fa17b-09ff-462e-80d4-e024ed405db4",
   "metadata": {},
   "outputs": [],
   "source": [
    "a.mean(axis=0) # mean along the *columns*"
   ]
  },
  {
   "cell_type": "code",
   "execution_count": null,
   "id": "f6dcfb47-b984-4445-9187-8a2d24126dba",
   "metadata": {},
   "outputs": [],
   "source": [
    "a.mean(axis=1) # mean along the *rows*"
   ]
  },
  {
   "cell_type": "code",
   "execution_count": null,
   "id": "ce188795-abf2-4556-ba1e-0568d92b2220",
   "metadata": {},
   "outputs": [],
   "source": [
    "### BEGIN SOLUTION\n",
    "X2 = np.array(X)\n",
    "man_transform = (X2-X2.mean(axis=0))/X2.std(axis=0)\n",
    "np.allclose(man_transform, X_ss)\n",
    "### END SOLUTION"
   ]
  },
  {
   "cell_type": "markdown",
   "id": "0f5d9460-c48c-4651-94cb-c0fb764a0c70",
   "metadata": {},
   "source": [
    "### Coefficients with and without scaling\n"
   ]
  },
  {
   "cell_type": "code",
   "execution_count": null,
   "id": "e9250e4f-ee97-434a-858e-15a88aaf38fc",
   "metadata": {},
   "outputs": [],
   "source": [
    "from sklearn.linear_model import LinearRegression"
   ]
  },
  {
   "cell_type": "code",
   "execution_count": null,
   "id": "5bc4dfdc-2db5-46d3-9840-7c5493b5d6ab",
   "metadata": {},
   "outputs": [],
   "source": [
    "lr = LinearRegression()\n",
    "\n",
    "y_col = \"MEDV\"\n",
    "\n",
    "X = boston_data.drop(y_col, axis=1)\n",
    "y = boston_data[y_col]"
   ]
  },
  {
   "cell_type": "code",
   "execution_count": null,
   "id": "4a86e108-4703-4a75-8a8d-6f6c7a7abb7f",
   "metadata": {},
   "outputs": [],
   "source": [
    "lr.fit(X, y)\n",
    "print(lr.coef_) # min = -18"
   ]
  },
  {
   "cell_type": "markdown",
   "id": "e26653ee-c777-4823-8e7a-5890b0eae486",
   "metadata": {},
   "source": [
    "#### Discussion (together):\n",
    "\n",
    "The coefficients are on widely different scales. Is this \"bad\"?\n"
   ]
  },
  {
   "cell_type": "code",
   "execution_count": null,
   "id": "5b735cd8-ec4d-4955-9fc2-aadd83a1e500",
   "metadata": {},
   "outputs": [],
   "source": [
    "from sklearn.preprocessing import StandardScaler"
   ]
  },
  {
   "cell_type": "code",
   "execution_count": null,
   "id": "485ed101-03ef-41ea-a4ad-e97ccf0e911d",
   "metadata": {},
   "outputs": [],
   "source": [
    "s = StandardScaler()\n",
    "X_ss = s.fit_transform(X)"
   ]
  },
  {
   "cell_type": "code",
   "execution_count": null,
   "id": "3b599fdc-4d8f-4619-8133-06865c2c02af",
   "metadata": {},
   "outputs": [],
   "source": [
    "lr2 = LinearRegression()\n",
    "lr2.fit(X_ss, y)\n",
    "print(lr2.coef_) # coefficients now \"on the same scale\""
   ]
  },
  {
   "cell_type": "markdown",
   "id": "302203e1-e4b7-4670-b47a-1726c67a5286",
   "metadata": {},
   "source": [
    "### Exercise:\n",
    "\n",
    "Based on these results, what is the most \"impactful\" feature (this is intended to be slightly ambiguous)? \"In what direction\" does it affect \"y\"?\n",
    "\n",
    "**Hint:** Recall from last week that we can \"zip up\" the names of the features of a DataFrame `df` with a model `model` fitted on that DataFrame using:\n",
    "\n",
    "```python\n",
    "dict(zip(df.columns.values, model.coef_))\n",
    "```\n"
   ]
  },
  {
   "cell_type": "code",
   "execution_count": null,
   "id": "3f2e9013-10f8-44ff-86b2-2fe662a78488",
   "metadata": {},
   "outputs": [],
   "source": [
    "### BEGIN SOLUTION\n",
    "pd.DataFrame(zip(X.columns, lr2.coef_)).sort_values(by=1)\n",
    "### END SOLUTION"
   ]
  },
  {
   "cell_type": "markdown",
   "id": "2eb0525b-b6f3-4010-889d-1ade7f5a60a2",
   "metadata": {},
   "source": [
    "Looking just at the strength of the standardized coefficients LSTAT, DIS, RM and RAD are all the 'most impactful'. Sklearn does not have built in statistical significance of each of these variables which would aid in making this claim stronger/weaker\n"
   ]
  },
  {
   "cell_type": "markdown",
   "id": "09dc6fa8-0479-4456-b2cd-385b01300f9a",
   "metadata": {},
   "source": [
    "### Lasso with and without scaling\n"
   ]
  },
  {
   "cell_type": "markdown",
   "id": "7b3b86c2-de8f-4b31-8346-aa6950f3fd3f",
   "metadata": {},
   "source": [
    "We discussed Lasso in lecture.\n",
    "\n",
    "Let's review together:\n",
    "\n",
    "1.  What is different about Lasso vs. regular Linear Regression?\n",
    "2.  Is standardization more or less important with Lasso vs. Linear Regression? Why?\n"
   ]
  },
  {
   "cell_type": "code",
   "execution_count": null,
   "id": "52de618e-4f6d-4453-a8dc-c5afa04d0865",
   "metadata": {},
   "outputs": [],
   "source": [
    "from sklearn.linear_model import Lasso\n",
    "from sklearn.preprocessing import PolynomialFeatures"
   ]
  },
  {
   "cell_type": "markdown",
   "id": "e5a7b16e-d8dd-4ce7-ab2f-2cb592d31b73",
   "metadata": {},
   "source": [
    "#### Create polynomial features\n"
   ]
  },
  {
   "cell_type": "markdown",
   "id": "0a2f3499-d781-419a-a87e-9fb56bc315c3",
   "metadata": {},
   "source": [
    "[`PolynomialFeatures`](http://scikit-learn.org/stable/modules/generated/sklearn.preprocessing.PolynomialFeatures.html?utm_medium=Exinfluencer&utm_source=Exinfluencer&utm_content=000026UJ&utm_term=10006555&utm_id=NA-SkillsNetwork-Channel-SkillsNetworkCoursesIBMML240ENSkillsNetwork34171862-2022-01-01)\n"
   ]
  },
  {
   "cell_type": "code",
   "execution_count": null,
   "id": "1e88ed64-ba4a-4535-8f42-21aed1edcffb",
   "metadata": {},
   "outputs": [],
   "source": [
    "pf = PolynomialFeatures(degree=2, include_bias=False,)\n",
    "X_pf = pf.fit_transform(X)"
   ]
  },
  {
   "cell_type": "markdown",
   "id": "f671921e-edc3-4cec-b1e6-9d702c5200c5",
   "metadata": {},
   "source": [
    "**Note:** We use `include_bias=False` since `Lasso` includes a bias by default.\n"
   ]
  },
  {
   "cell_type": "code",
   "execution_count": null,
   "id": "fb27e3e8-3e99-41d7-a660-1efc14eb0d71",
   "metadata": {},
   "outputs": [],
   "source": [
    "X_pf_ss = s.fit_transform(X_pf)"
   ]
  },
  {
   "cell_type": "markdown",
   "id": "b3bfd463-9bf5-4eb8-9e6b-8491986c8846",
   "metadata": {},
   "source": [
    "### Lasso\n"
   ]
  },
  {
   "cell_type": "markdown",
   "id": "29de1891-8fb7-4aab-bd01-75dfae091270",
   "metadata": {},
   "source": [
    "[`Lasso` documentation](http://scikit-learn.org/stable/modules/generated/sklearn.linear_model.Lasso.html?utm_medium=Exinfluencer&utm_source=Exinfluencer&utm_content=000026UJ&utm_term=10006555&utm_id=NA-SkillsNetwork-Channel-SkillsNetworkCoursesIBMML240ENSkillsNetwork34171862-2022-01-01)\n"
   ]
  },
  {
   "cell_type": "code",
   "execution_count": null,
   "id": "68278353-927b-48e7-8c45-b98a3e0822bf",
   "metadata": {},
   "outputs": [],
   "source": [
    "las = Lasso()\n",
    "las.fit(X_pf_ss, y)\n",
    "las.coef_ "
   ]
  },
  {
   "cell_type": "markdown",
   "id": "2bb8cd22-b24d-4132-8268-8b9ae36cf3c8",
   "metadata": {},
   "source": [
    "### Exercise\n",
    "\n",
    "Compare\n",
    "\n",
    "*   Sum of magnitudes of the coefficients\n",
    "*   Number of coefficients that are zero\n",
    "\n",
    "for Lasso with alpha 0.1 vs. 1.\n",
    "\n",
    "Before doing the exercise, answer the following questions in one sentence each:\n",
    "\n",
    "*   Which do you expect to have greater magnitude?\n",
    "*   Which do you expect to have more zeros?\n"
   ]
  },
  {
   "cell_type": "code",
   "execution_count": null,
   "id": "7b7f3b67-8ed1-4246-b1d9-0cb6197c3c87",
   "metadata": {},
   "outputs": [],
   "source": [
    "### BEGIN SOLUTION\n",
    "las01 = Lasso(alpha = 0.1)\n",
    "las01.fit(X_pf_ss, y)\n",
    "print('sum of coefficients:', abs(las01.coef_).sum() )\n",
    "print('number of coefficients not equal to 0:', (las01.coef_!=0).sum())"
   ]
  },
  {
   "cell_type": "code",
   "execution_count": null,
   "id": "b8c7eac0-3077-4f07-95b7-42203c7459d9",
   "metadata": {},
   "outputs": [],
   "source": [
    "las1 = Lasso(alpha = 1)\n",
    "las1.fit(X_pf_ss, y)\n",
    "print('sum of coefficients:',abs(las1.coef_).sum() )\n",
    "print('number of coefficients not equal to 0:',(las1.coef_!=0).sum())\n",
    "### END SOLUTION"
   ]
  },
  {
   "cell_type": "markdown",
   "id": "dca8bc24-5990-4b08-b9b3-3ddf750c990b",
   "metadata": {},
   "source": [
    "With more regularization (higher alpha) we will expect the penalty for higher weights to be greater and thus the coefficients to be pushed down. Thus a higher alpha means lower magnitude with more coefficients pushed down to 0.\n"
   ]
  },
  {
   "cell_type": "markdown",
   "id": "374c3b49-e959-42ae-a782-7bb5421e6938",
   "metadata": {},
   "source": [
    "### Exercise: $R^2$\n"
   ]
  },
  {
   "cell_type": "markdown",
   "id": "172abb49-f322-4851-8c44-8c28cce9ff50",
   "metadata": {},
   "source": [
    "Calculate the $R^2$ of each model without train/test split.\n",
    "\n",
    "Recall that we import $R^2$ using:\n",
    "\n",
    "```python\n",
    "from sklearn.metrics import r2_score\n",
    "```\n"
   ]
  },
  {
   "cell_type": "code",
   "execution_count": null,
   "id": "81e9feb7-3539-49bc-8a65-0cc8ff759803",
   "metadata": {},
   "outputs": [],
   "source": [
    "### BEGIN SOLUTION\n",
    "from sklearn.metrics import r2_score\n",
    "r2_score(y,las.predict(X_pf_ss))\n",
    "### END SOLUTION"
   ]
  },
  {
   "cell_type": "markdown",
   "id": "daa287ab-4c6d-4090-9f9a-f6b44f5de1d0",
   "metadata": {},
   "source": [
    "#### Discuss:\n",
    "\n",
    "Will regularization ever increase model performance if we evaluate on the same dataset that we trained on?\n"
   ]
  },
  {
   "cell_type": "markdown",
   "id": "6e0b357c-aa18-4a42-9022-f8e315c39097",
   "metadata": {},
   "source": [
    "## With train/test split\n"
   ]
  },
  {
   "cell_type": "markdown",
   "id": "cbecda0e-2a4e-4bec-99af-3dc761dc063b",
   "metadata": {},
   "source": [
    "#### Discuss\n",
    "\n",
    "Are there any issues with what we've done so far?\n",
    "\n",
    "**Hint:** Think about the way we have done feature scaling.\n",
    "\n",
    "Discuss in groups of two or three.\n"
   ]
  },
  {
   "cell_type": "code",
   "execution_count": null,
   "id": "eb6fd5c6-559b-4cb7-88e3-6c286bff4184",
   "metadata": {},
   "outputs": [],
   "source": [
    "from sklearn.model_selection import train_test_split"
   ]
  },
  {
   "cell_type": "code",
   "execution_count": null,
   "id": "274763f3-60f5-4f53-8880-ae935b74f13b",
   "metadata": {},
   "outputs": [],
   "source": [
    "X_train, X_test, y_train, y_test = train_test_split(X_pf, y, test_size=0.3, \n",
    "                                                    random_state=72018)"
   ]
  },
  {
   "cell_type": "code",
   "execution_count": null,
   "id": "4538a941-786e-4eac-b84b-e60f7c6ba62f",
   "metadata": {},
   "outputs": [],
   "source": [
    "X_train_s = s.fit_transform(X_train)\n",
    "las.fit(X_train_s, y_train)\n",
    "X_test_s = s.transform(X_test)\n",
    "y_pred = las.predict(X_test_s)\n",
    "r2_score(y_pred, y_test)"
   ]
  },
  {
   "cell_type": "code",
   "execution_count": null,
   "id": "ebc960d3-b2c7-4c89-842d-d26d46fe173c",
   "metadata": {},
   "outputs": [],
   "source": [
    "X_train_s = s.fit_transform(X_train)\n",
    "las01.fit(X_train_s, y_train)\n",
    "X_test_s = s.transform(X_test)\n",
    "y_pred = las01.predict(X_test_s)\n",
    "r2_score(y_pred, y_test)"
   ]
  },
  {
   "cell_type": "markdown",
   "id": "294f838e-f509-4259-b31d-2b788c8bc16e",
   "metadata": {},
   "source": [
    "### Exercise\n",
    "\n",
    "#### Part 1:\n",
    "\n",
    "Do the same thing with Lasso of:\n",
    "\n",
    "*   `alpha` of 0.001\n",
    "*   Increase `max_iter` to 100000 to ensure convergence.\n",
    "\n",
    "Calculate the $R^2$ of the model.\n",
    "\n",
    "Feel free to copy-paste code from above, but write a one sentence comment above each line of code explaining why you're doing what you're doing.\n",
    "\n",
    "#### Part 2:\n",
    "\n",
    "Do the same procedure as before, but with Linear Regression.\n",
    "\n",
    "Calculate the $R^2$ of this model.\n",
    "\n",
    "#### Part 3:\n",
    "\n",
    "Compare the sums of the absolute values of the coefficients for both models, as well as the number of coefficients that are zero. Based on these measures, which model is a \"simpler\" description of the relationship between the features and the target?\n"
   ]
  },
  {
   "cell_type": "code",
   "execution_count": null,
   "id": "521e4c2b-fe42-4dd4-92c0-a90059d41b36",
   "metadata": {},
   "outputs": [],
   "source": [
    "### BEGIN SOLUTION\n",
    "\n",
    "# Part 1\n",
    "\n",
    "# Decreasing regularization and ensuring convergence\n",
    "las001 = Lasso(alpha = 0.001, max_iter=100000)\n",
    "\n",
    "# Transforming training set to get standardized units\n",
    "X_train_s = s.fit_transform(X_train)\n",
    "\n",
    "# Fitting model to training set\n",
    "las001.fit(X_train_s, y_train)\n",
    "\n",
    "# Transforming test set using the parameters defined from training set\n",
    "X_test_s = s.transform(X_test)\n",
    "\n",
    "# Finding prediction on test set\n",
    "y_pred = las001.predict(X_test_s)\n",
    "\n",
    "# Calculating r2 score\n",
    "print(\"r2 score for alpha = 0.001:\", r2_score(y_test,y_pred))\n",
    "\n",
    "\n",
    "# Part 2\n",
    "\n",
    "# Using vanilla Linear Regression\n",
    "lr = LinearRegression()\n",
    "\n",
    "# Fitting model to training set\n",
    "lr.fit(X_train_s, y_train)\n",
    "\n",
    "# predicting on test set\n",
    "y_pred_lr = lr.predict(X_test_s)\n",
    "\n",
    "# Calculating r2 score\n",
    "print(\"r2 score for Linear Regression:\", r2_score(y_test,y_pred_lr,))\n",
    "\n",
    "\n",
    "# Part 3\n",
    "print('Magnitude of Lasso coefficients:', abs(las001.coef_).sum())\n",
    "print('Number of coeffients not equal to 0 for Lasso:', (las001.coef_!=0).sum())\n",
    "\n",
    "print('Magnitude of Linear Regression coefficients:', abs(lr.coef_).sum())\n",
    "print('Number of coeffients not equal to 0 for Linear Regression:', (lr.coef_!=0).sum())\n",
    "### END SOLUTION"
   ]
  },
  {
   "cell_type": "markdown",
   "id": "2db6cc67-34de-4c5e-ab91-b067892e031e",
   "metadata": {},
   "source": [
    "## L1 vs. L2 Regularization\n"
   ]
  },
  {
   "cell_type": "markdown",
   "id": "9afe2867-81a3-4d05-83d4-097919130fff",
   "metadata": {},
   "source": [
    "As mentioned in the deck: `Lasso` and `Ridge` regression have the same syntax in SciKit Learn.\n",
    "\n",
    "Now we're going to compare the results from Ridge vs. Lasso regression:\n"
   ]
  },
  {
   "cell_type": "markdown",
   "id": "a66290dd-ac93-4368-8384-b93fe8e68ae1",
   "metadata": {},
   "source": [
    "[`Ridge`](http://scikit-learn.org/stable/modules/generated/sklearn.linear_model.Ridge.html?utm_medium=Exinfluencer&utm_source=Exinfluencer&utm_content=000026UJ&utm_term=10006555&utm_id=NA-SkillsNetwork-Channel-SkillsNetworkCoursesIBMML240ENSkillsNetwork34171862-2022-01-01)\n"
   ]
  },
  {
   "cell_type": "code",
   "execution_count": null,
   "id": "9add5753-25cc-472d-849c-633b7c6dc0ea",
   "metadata": {},
   "outputs": [],
   "source": [
    "from sklearn.linear_model import Ridge"
   ]
  },
  {
   "cell_type": "markdown",
   "id": "13fc85b2-323d-4daf-b774-bff80860536b",
   "metadata": {},
   "source": [
    "### Exercise\n",
    "\n",
    "Following the Ridge documentation from above:\n",
    "\n",
    "1.  Define a Ridge object `r` with the same `alpha` as `las001`.\n",
    "2.  Fit that object on `X` and `y` and print out the resulting coefficients.\n"
   ]
  },
  {
   "cell_type": "code",
   "execution_count": null,
   "id": "64ebe8af-18cb-4361-b3f0-f846da17eb04",
   "metadata": {},
   "outputs": [],
   "source": [
    "### BEGIN SOLUTION\n",
    "# Decreasing regularization and ensuring convergence\n",
    "r = Ridge(alpha = 0.001)\n",
    "X_train_s = s.fit_transform(X_train)\n",
    "r.fit(X_train_s, y_train)\n",
    "X_test_s = s.transform(X_test)\n",
    "y_pred_r = r.predict(X_test_s)\n",
    "\n",
    "# Calculating r2 score\n",
    "r.coef_\n",
    "### END SOLUTION"
   ]
  },
  {
   "cell_type": "code",
   "execution_count": null,
   "id": "365a0d0a-21e4-4708-ad0c-40742dbabf88",
   "metadata": {},
   "outputs": [],
   "source": [
    "las001 # same alpha as Ridge above"
   ]
  },
  {
   "cell_type": "code",
   "execution_count": null,
   "id": "4f361802-1ead-480b-8b23-fe85808ef79e",
   "metadata": {},
   "outputs": [],
   "source": [
    "las001.coef_"
   ]
  },
  {
   "cell_type": "code",
   "execution_count": null,
   "id": "cdcca549-8fa3-48e9-8d1f-50f061bf7e6c",
   "metadata": {},
   "outputs": [],
   "source": [
    "print(np.sum(np.abs(r.coef_)))\n",
    "print(np.sum(np.abs(las001.coef_)))\n",
    "\n",
    "print(np.sum(r.coef_ != 0))\n",
    "print(np.sum(las001.coef_ != 0))"
   ]
  },
  {
   "cell_type": "markdown",
   "id": "8766db7f-ad7b-4aaf-8093-473ef9f99ad5",
   "metadata": {},
   "source": [
    "**Conclusion:** Ridge does not make any coefficients 0. In addition, on this particular dataset, Lasso provides stronger overall regularization than Ridge for this value of `alpha` (not necessarily true in general).\n"
   ]
  },
  {
   "cell_type": "code",
   "execution_count": null,
   "id": "128b5194-b787-4395-a3f2-1b0610df625d",
   "metadata": {},
   "outputs": [],
   "source": [
    "y_pred = r.predict(X_pf_ss)\n",
    "print(r2_score(y, y_pred))\n",
    "\n",
    "y_pred = las001.predict(X_pf_ss)\n",
    "print(r2_score(y, y_pred))"
   ]
  },
  {
   "cell_type": "markdown",
   "id": "cd851eb9-ab6b-4933-866f-f6fabeabaf03",
   "metadata": {},
   "source": [
    "**Conclusion**: Ignoring issues of overfitting, Ridge does slightly better than Lasso when `alpha` is set to 0.001 for each (not necessarily true in general).\n"
   ]
  },
  {
   "cell_type": "markdown",
   "id": "46c37471-3f5f-475b-9910-54aa110fbe16",
   "metadata": {},
   "source": [
    "# Example: Does it matter when you scale?\n"
   ]
  },
  {
   "cell_type": "code",
   "execution_count": null,
   "id": "41a59280-03ae-4f91-9ecb-18d44e43557c",
   "metadata": {},
   "outputs": [],
   "source": [
    "X_train, X_test, y_train, y_test = train_test_split(X_ss, y, test_size=0.3, \n",
    "                                                    random_state=72018)"
   ]
  },
  {
   "cell_type": "code",
   "execution_count": null,
   "id": "d50fd0f7-6cad-401c-b47b-6610128cce06",
   "metadata": {},
   "outputs": [],
   "source": [
    "lr = LinearRegression()\n",
    "lr.fit(X_train, y_train)\n",
    "y_pred = lr.predict(X_test)\n",
    "r2_score(y_test,y_pred)"
   ]
  },
  {
   "cell_type": "code",
   "execution_count": null,
   "id": "402d50d0-8dd1-468f-8921-e571fde79268",
   "metadata": {},
   "outputs": [],
   "source": [
    "X_train, X_test, y_train, y_test = train_test_split(X, y, test_size=0.3, \n",
    "                                                    random_state=72018)"
   ]
  },
  {
   "cell_type": "code",
   "execution_count": null,
   "id": "5f0b481a-86c7-481f-b23c-87ecde157b23",
   "metadata": {},
   "outputs": [],
   "source": [
    "s = StandardScaler()\n",
    "lr_s = LinearRegression()\n",
    "X_train_s = s.fit_transform(X_train)\n",
    "lr_s.fit(X_train_s, y_train)\n",
    "X_test_s = s.transform(X_test)\n",
    "y_pred_s = lr_s.predict(X_test_s)\n",
    "r2_score(y_test,y_pred_s)"
   ]
  },
  {
   "cell_type": "markdown",
   "id": "18b8fa7b-caaf-4783-8889-ba6ba475edcb",
   "metadata": {},
   "source": [
    "**Conclusion:** It doesn't matter whether you scale before or afterwards, in terms of the raw predictions, for Linear Regression. However, it matters for other algorithms. Plus, as we'll see later, we can make scaling part of a `Pipeline`.\n"
   ]
  },
  {
   "cell_type": "markdown",
   "id": "510fcfac-1cdd-45ba-a54f-b7ef86c058ca",
   "metadata": {},
   "source": [
    "***\n",
    "\n",
    "### Machine Learning Foundation (C) 2020 IBM Corporation\n"
   ]
  }
 ],
 "metadata": {
  "kernelspec": {
   "display_name": "Python 3 (ipykernel)",
   "language": "python",
   "name": "python3"
  },
  "language_info": {
   "codemirror_mode": {
    "name": "ipython",
    "version": 3
   },
   "file_extension": ".py",
   "mimetype": "text/x-python",
   "name": "python",
   "nbconvert_exporter": "python",
   "pygments_lexer": "ipython3",
   "version": "3.11.5"
  },
  "prev_pub_hash": "b5296c4a0424390a76cb1c0e953432babe0af6ad37e75767e1f443e06e01c180"
 },
 "nbformat": 4,
 "nbformat_minor": 4
}
