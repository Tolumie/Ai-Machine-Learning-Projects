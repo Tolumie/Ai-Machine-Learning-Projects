{
 "cells": [
  {
   "cell_type": "markdown",
   "id": "252a8946-f67a-4856-8167-8a8f9e7bb886",
   "metadata": {},
   "source": [
    "# Machine Learning Foundation\n",
    "\n",
    "## Section 2, Part e: Regularization LAB\n"
   ]
  },
  {
   "cell_type": "markdown",
   "id": "54f366c9-4f64-492e-aef2-5718390f7eef",
   "metadata": {},
   "source": [
    "## Learning objectives\n",
    "\n",
    "By the end of this lesson, you will be able to:\n",
    "\n",
    "*   Implement data standardization\n",
    "*   Implement variants of regularized regression\n",
    "*   Combine data standardization with the train-test split procedure\n",
    "*   Implement regularization to prevent overfitting in regression problems\n"
   ]
  },
  {
   "cell_type": "code",
   "execution_count": 1,
   "id": "dea5216d-fbcb-40c5-b0bb-fb7ca39e72f3",
   "metadata": {},
   "outputs": [],
   "source": [
    "import numpy as np\n",
    "import pandas as pd\n",
    "import matplotlib.pyplot as plt\n",
    "%matplotlib inline\n",
    "\n",
    "# Surpress warnings:\n",
    "def warn(*args, **kwargs):\n",
    "    pass\n",
    "import warnings\n",
    "warnings.warn = warn\n",
    "\n",
    "np.set_printoptions(precision=3, suppress=True)"
   ]
  },
  {
   "cell_type": "markdown",
   "id": "15e9af35-a191-48c0-a7bd-8170f883f22a",
   "metadata": {},
   "source": [
    "In the following cell we load the data and define some useful plotting functions.\n"
   ]
  },
  {
   "cell_type": "code",
   "execution_count": 2,
   "id": "fda4b2a6-1abf-4e31-af6a-4540a5a5b988",
   "metadata": {},
   "outputs": [],
   "source": [
    "np.random.seed(72018)\n",
    "\n",
    "\n",
    "def to_2d(array):\n",
    "    return array.reshape(array.shape[0], -1)\n",
    "\n",
    "def plot_exponential_data():\n",
    "    data = np.exp(np.random.normal(size=1000))\n",
    "    plt.hist(data)\n",
    "    plt.show()\n",
    "    return data\n",
    "    \n",
    "def plot_square_normal_data():\n",
    "    data = np.square(np.random.normal(loc=5, size=1000))\n",
    "    plt.hist(data)\n",
    "    plt.show()\n",
    "    return data"
   ]
  },
  {
   "cell_type": "code",
   "execution_count": 3,
   "id": "8c75fcc0-8bbe-44cd-9981-5af5b80e38fa",
   "metadata": {},
   "outputs": [
    {
     "name": "stderr",
     "output_type": "stream",
     "text": [
      "'wget' is not recognized as an internal or external command,\n",
      "operable program or batch file.\n"
     ]
    }
   ],
   "source": [
    "!wget \"https://cf-courses-data.s3.us.cloud-object-storage.appdomain.cloud/IBM-ML240EN-SkillsNetwork/labs/data/boston_housing_clean.pickle\""
   ]
  },
  {
   "cell_type": "markdown",
   "id": "4bda4e1f-8385-47c5-a2b6-d934a7ef8319",
   "metadata": {},
   "source": [
    "### Loading in Boston Data\n"
   ]
  },
  {
   "cell_type": "code",
   "execution_count": 4,
   "id": "6fe79dc3-ec9e-4b9b-bc44-595e3b2eeeb9",
   "metadata": {},
   "outputs": [
    {
     "name": "stdout",
     "output_type": "stream",
     "text": [
      "The first 5 rows of the dataframe\n"
     ]
    },
    {
     "data": {
      "text/html": [
       "<div>\n",
       "<style scoped>\n",
       "    .dataframe tbody tr th:only-of-type {\n",
       "        vertical-align: middle;\n",
       "    }\n",
       "\n",
       "    .dataframe tbody tr th {\n",
       "        vertical-align: top;\n",
       "    }\n",
       "\n",
       "    .dataframe thead th {\n",
       "        text-align: right;\n",
       "    }\n",
       "</style>\n",
       "<table border=\"1\" class=\"dataframe\">\n",
       "  <thead>\n",
       "    <tr style=\"text-align: right;\">\n",
       "      <th></th>\n",
       "      <th>CRIM</th>\n",
       "      <th>ZN</th>\n",
       "      <th>INDUS</th>\n",
       "      <th>CHAS</th>\n",
       "      <th>NOX</th>\n",
       "      <th>RM</th>\n",
       "      <th>AGE</th>\n",
       "      <th>DIS</th>\n",
       "      <th>RAD</th>\n",
       "      <th>TAX</th>\n",
       "      <th>PTRATIO</th>\n",
       "      <th>B</th>\n",
       "      <th>LSTAT</th>\n",
       "      <th>MEDV</th>\n",
       "    </tr>\n",
       "  </thead>\n",
       "  <tbody>\n",
       "    <tr>\n",
       "      <th>0</th>\n",
       "      <td>0.00632</td>\n",
       "      <td>18.0</td>\n",
       "      <td>2.31</td>\n",
       "      <td>0.0</td>\n",
       "      <td>0.538</td>\n",
       "      <td>6.575</td>\n",
       "      <td>65.2</td>\n",
       "      <td>4.0900</td>\n",
       "      <td>1.0</td>\n",
       "      <td>296.0</td>\n",
       "      <td>15.3</td>\n",
       "      <td>396.90</td>\n",
       "      <td>4.98</td>\n",
       "      <td>24.0</td>\n",
       "    </tr>\n",
       "    <tr>\n",
       "      <th>1</th>\n",
       "      <td>0.02731</td>\n",
       "      <td>0.0</td>\n",
       "      <td>7.07</td>\n",
       "      <td>0.0</td>\n",
       "      <td>0.469</td>\n",
       "      <td>6.421</td>\n",
       "      <td>78.9</td>\n",
       "      <td>4.9671</td>\n",
       "      <td>2.0</td>\n",
       "      <td>242.0</td>\n",
       "      <td>17.8</td>\n",
       "      <td>396.90</td>\n",
       "      <td>9.14</td>\n",
       "      <td>21.6</td>\n",
       "    </tr>\n",
       "    <tr>\n",
       "      <th>2</th>\n",
       "      <td>0.02729</td>\n",
       "      <td>0.0</td>\n",
       "      <td>7.07</td>\n",
       "      <td>0.0</td>\n",
       "      <td>0.469</td>\n",
       "      <td>7.185</td>\n",
       "      <td>61.1</td>\n",
       "      <td>4.9671</td>\n",
       "      <td>2.0</td>\n",
       "      <td>242.0</td>\n",
       "      <td>17.8</td>\n",
       "      <td>392.83</td>\n",
       "      <td>4.03</td>\n",
       "      <td>34.7</td>\n",
       "    </tr>\n",
       "    <tr>\n",
       "      <th>3</th>\n",
       "      <td>0.03237</td>\n",
       "      <td>0.0</td>\n",
       "      <td>2.18</td>\n",
       "      <td>0.0</td>\n",
       "      <td>0.458</td>\n",
       "      <td>6.998</td>\n",
       "      <td>45.8</td>\n",
       "      <td>6.0622</td>\n",
       "      <td>3.0</td>\n",
       "      <td>222.0</td>\n",
       "      <td>18.7</td>\n",
       "      <td>394.63</td>\n",
       "      <td>2.94</td>\n",
       "      <td>33.4</td>\n",
       "    </tr>\n",
       "    <tr>\n",
       "      <th>4</th>\n",
       "      <td>0.06905</td>\n",
       "      <td>0.0</td>\n",
       "      <td>2.18</td>\n",
       "      <td>0.0</td>\n",
       "      <td>0.458</td>\n",
       "      <td>7.147</td>\n",
       "      <td>54.2</td>\n",
       "      <td>6.0622</td>\n",
       "      <td>3.0</td>\n",
       "      <td>222.0</td>\n",
       "      <td>18.7</td>\n",
       "      <td>396.90</td>\n",
       "      <td>5.33</td>\n",
       "      <td>36.2</td>\n",
       "    </tr>\n",
       "  </tbody>\n",
       "</table>\n",
       "</div>"
      ],
      "text/plain": [
       "      CRIM    ZN  INDUS  CHAS    NOX     RM   AGE     DIS  RAD    TAX  \\\n",
       "0  0.00632  18.0   2.31   0.0  0.538  6.575  65.2  4.0900  1.0  296.0   \n",
       "1  0.02731   0.0   7.07   0.0  0.469  6.421  78.9  4.9671  2.0  242.0   \n",
       "2  0.02729   0.0   7.07   0.0  0.469  7.185  61.1  4.9671  2.0  242.0   \n",
       "3  0.03237   0.0   2.18   0.0  0.458  6.998  45.8  6.0622  3.0  222.0   \n",
       "4  0.06905   0.0   2.18   0.0  0.458  7.147  54.2  6.0622  3.0  222.0   \n",
       "\n",
       "   PTRATIO       B  LSTAT  MEDV  \n",
       "0     15.3  396.90   4.98  24.0  \n",
       "1     17.8  396.90   9.14  21.6  \n",
       "2     17.8  392.83   4.03  34.7  \n",
       "3     18.7  394.63   2.94  33.4  \n",
       "4     18.7  396.90   5.33  36.2  "
      ]
     },
     "execution_count": 4,
     "metadata": {},
     "output_type": "execute_result"
    }
   ],
   "source": [
    "with open('boston_housing_clean.pickle', 'rb') as to_read:\n",
    "    boston = pd.read_pickle(to_read)\n",
    "boston_data = boston['dataframe']\n",
    "boston_description = boston['description']\n",
    "\n",
    "# show the first 5 rows using dataframe.head() method\n",
    "print(\"The first 5 rows of the dataframe\") \n",
    "boston_data.head()"
   ]
  },
  {
   "cell_type": "markdown",
   "id": "690ef243-0462-4232-b7a7-60e7b4c6c7ba",
   "metadata": {},
   "source": [
    "## Data standardization\n"
   ]
  },
  {
   "cell_type": "markdown",
   "id": "2461287f-5167-4e94-978c-611a5d7d167e",
   "metadata": {},
   "source": [
    "**Standardizing** data refers to transforming each variable so that it more closely follows a **standard** normal distribution, with mean 0 and standard deviation 1.\n",
    "\n",
    "The [`StandardScaler`](http://scikit-learn.org/dev/modules/generated/sklearn.preprocessing.StandardScaler.html?utm_medium=Exinfluencer&utm_source=Exinfluencer&utm_content=000026UJ&utm_term=10006555&utm_id=NA-SkillsNetwork-Channel-SkillsNetworkCoursesIBMML240ENSkillsNetwork34171862-2022-01-01#sklearn.preprocessing.StandardScaler) object in SciKit Learn can do this.\n"
   ]
  },
  {
   "cell_type": "markdown",
   "id": "c23c8946-e25f-47df-b23f-f85ef6681c85",
   "metadata": {},
   "source": [
    "**Generate X and y**:\n"
   ]
  },
  {
   "cell_type": "code",
   "execution_count": 5,
   "id": "47339283-6d06-4b41-ad23-ae32eb421f89",
   "metadata": {},
   "outputs": [],
   "source": [
    "y_col = \"MEDV\"\n",
    "\n",
    "X = boston_data.drop(y_col, axis=1)\n",
    "y = boston_data[y_col]"
   ]
  },
  {
   "cell_type": "markdown",
   "id": "bae62cda-7888-4af1-baae-576f95923add",
   "metadata": {},
   "source": [
    "**Import, fit, and transform using `StandardScaler`**\n"
   ]
  },
  {
   "cell_type": "code",
   "execution_count": 6,
   "id": "e3278605-5911-4cf2-9024-963705b7aa4c",
   "metadata": {},
   "outputs": [],
   "source": [
    "from sklearn.preprocessing import StandardScaler\n",
    "\n",
    "s = StandardScaler()\n",
    "X_ss = s.fit_transform(X)"
   ]
  },
  {
   "cell_type": "markdown",
   "id": "337099f1-01e0-42a8-bf41-df92aebd8fa0",
   "metadata": {},
   "source": [
    "### Exercise:\n",
    "\n",
    "Confirm standard scaling\n"
   ]
  },
  {
   "cell_type": "markdown",
   "id": "bfbc0aeb-f952-4adf-9b6a-46d26ae51e09",
   "metadata": {},
   "source": [
    "Hint:\n"
   ]
  },
  {
   "cell_type": "code",
   "execution_count": 7,
   "id": "27e8528d-91ba-4808-81a0-1a0fb336f40e",
   "metadata": {},
   "outputs": [
    {
     "name": "stdout",
     "output_type": "stream",
     "text": [
      "[[1 2 3]\n",
      " [4 5 6]]\n"
     ]
    }
   ],
   "source": [
    "a = np.array([[1, 2, 3], \n",
    "              [4, 5, 6]]) \n",
    "print(a) # 2 rows, 3 columns"
   ]
  },
  {
   "cell_type": "code",
   "execution_count": 8,
   "id": "8e6fa17b-09ff-462e-80d4-e024ed405db4",
   "metadata": {},
   "outputs": [
    {
     "data": {
      "text/plain": [
       "array([2.5, 3.5, 4.5])"
      ]
     },
     "execution_count": 8,
     "metadata": {},
     "output_type": "execute_result"
    }
   ],
   "source": [
    "a.mean(axis=0) # mean along the *columns*"
   ]
  },
  {
   "cell_type": "code",
   "execution_count": 9,
   "id": "f6dcfb47-b984-4445-9187-8a2d24126dba",
   "metadata": {},
   "outputs": [
    {
     "data": {
      "text/plain": [
       "array([2., 5.])"
      ]
     },
     "execution_count": 9,
     "metadata": {},
     "output_type": "execute_result"
    }
   ],
   "source": [
    "a.mean(axis=1) # mean along the *rows*"
   ]
  },
  {
   "cell_type": "code",
   "execution_count": 10,
   "id": "ce188795-abf2-4556-ba1e-0568d92b2220",
   "metadata": {},
   "outputs": [
    {
     "data": {
      "text/plain": [
       "True"
      ]
     },
     "execution_count": 10,
     "metadata": {},
     "output_type": "execute_result"
    }
   ],
   "source": [
    "### BEGIN SOLUTION\n",
    "X2 = np.array(X)\n",
    "man_transform = (X2-X2.mean(axis=0))/X2.std(axis=0)\n",
    "np.allclose(man_transform, X_ss)\n",
    "### END SOLUTION"
   ]
  },
  {
   "cell_type": "markdown",
   "id": "0f5d9460-c48c-4651-94cb-c0fb764a0c70",
   "metadata": {},
   "source": [
    "### Coefficients with and without scaling\n"
   ]
  },
  {
   "cell_type": "code",
   "execution_count": 11,
   "id": "e9250e4f-ee97-434a-858e-15a88aaf38fc",
   "metadata": {},
   "outputs": [],
   "source": [
    "from sklearn.linear_model import LinearRegression"
   ]
  },
  {
   "cell_type": "code",
   "execution_count": 12,
   "id": "5bc4dfdc-2db5-46d3-9840-7c5493b5d6ab",
   "metadata": {},
   "outputs": [],
   "source": [
    "lr = LinearRegression()\n",
    "\n",
    "y_col = \"MEDV\"\n",
    "\n",
    "X = boston_data.drop(y_col, axis=1)\n",
    "y = boston_data[y_col]"
   ]
  },
  {
   "cell_type": "code",
   "execution_count": 13,
   "id": "4a86e108-4703-4a75-8a8d-6f6c7a7abb7f",
   "metadata": {},
   "outputs": [
    {
     "name": "stdout",
     "output_type": "stream",
     "text": [
      "[ -0.107   0.046   0.021   2.689 -17.796   3.805   0.001  -1.476   0.306\n",
      "  -0.012  -0.953   0.009  -0.525]\n"
     ]
    }
   ],
   "source": [
    "lr.fit(X, y)\n",
    "print(lr.coef_) # min = -18"
   ]
  },
  {
   "cell_type": "markdown",
   "id": "e26653ee-c777-4823-8e7a-5890b0eae486",
   "metadata": {},
   "source": [
    "#### Discussion (together):\n",
    "\n",
    "The coefficients are on widely different scales. Is this \"bad\"?\n"
   ]
  },
  {
   "cell_type": "code",
   "execution_count": 14,
   "id": "5b735cd8-ec4d-4955-9fc2-aadd83a1e500",
   "metadata": {},
   "outputs": [],
   "source": [
    "from sklearn.preprocessing import StandardScaler"
   ]
  },
  {
   "cell_type": "code",
   "execution_count": 15,
   "id": "485ed101-03ef-41ea-a4ad-e97ccf0e911d",
   "metadata": {},
   "outputs": [],
   "source": [
    "s = StandardScaler()\n",
    "X_ss = s.fit_transform(X)"
   ]
  },
  {
   "cell_type": "code",
   "execution_count": 16,
   "id": "3b599fdc-4d8f-4619-8133-06865c2c02af",
   "metadata": {},
   "outputs": [
    {
     "name": "stdout",
     "output_type": "stream",
     "text": [
      "[-0.92   1.081  0.143  0.682 -2.06   2.671  0.021 -3.104  2.659 -2.076\n",
      " -2.062  0.857 -3.749]\n"
     ]
    }
   ],
   "source": [
    "lr2 = LinearRegression()\n",
    "lr2.fit(X_ss, y)\n",
    "print(lr2.coef_) # coefficients now \"on the same scale\""
   ]
  },
  {
   "cell_type": "markdown",
   "id": "302203e1-e4b7-4670-b47a-1726c67a5286",
   "metadata": {},
   "source": [
    "### Exercise:\n",
    "\n",
    "Based on these results, what is the most \"impactful\" feature (this is intended to be slightly ambiguous)? \"In what direction\" does it affect \"y\"?\n",
    "\n",
    "**Hint:** Recall from last week that we can \"zip up\" the names of the features of a DataFrame `df` with a model `model` fitted on that DataFrame using:\n",
    "\n",
    "```python\n",
    "dict(zip(df.columns.values, model.coef_))\n",
    "```\n"
   ]
  },
  {
   "cell_type": "code",
   "execution_count": 17,
   "id": "3f2e9013-10f8-44ff-86b2-2fe662a78488",
   "metadata": {},
   "outputs": [
    {
     "data": {
      "text/html": [
       "<div>\n",
       "<style scoped>\n",
       "    .dataframe tbody tr th:only-of-type {\n",
       "        vertical-align: middle;\n",
       "    }\n",
       "\n",
       "    .dataframe tbody tr th {\n",
       "        vertical-align: top;\n",
       "    }\n",
       "\n",
       "    .dataframe thead th {\n",
       "        text-align: right;\n",
       "    }\n",
       "</style>\n",
       "<table border=\"1\" class=\"dataframe\">\n",
       "  <thead>\n",
       "    <tr style=\"text-align: right;\">\n",
       "      <th></th>\n",
       "      <th>0</th>\n",
       "      <th>1</th>\n",
       "    </tr>\n",
       "  </thead>\n",
       "  <tbody>\n",
       "    <tr>\n",
       "      <th>12</th>\n",
       "      <td>LSTAT</td>\n",
       "      <td>-3.748680</td>\n",
       "    </tr>\n",
       "    <tr>\n",
       "      <th>7</th>\n",
       "      <td>DIS</td>\n",
       "      <td>-3.104448</td>\n",
       "    </tr>\n",
       "    <tr>\n",
       "      <th>9</th>\n",
       "      <td>TAX</td>\n",
       "      <td>-2.075898</td>\n",
       "    </tr>\n",
       "    <tr>\n",
       "      <th>10</th>\n",
       "      <td>PTRATIO</td>\n",
       "      <td>-2.062156</td>\n",
       "    </tr>\n",
       "    <tr>\n",
       "      <th>4</th>\n",
       "      <td>NOX</td>\n",
       "      <td>-2.060092</td>\n",
       "    </tr>\n",
       "    <tr>\n",
       "      <th>0</th>\n",
       "      <td>CRIM</td>\n",
       "      <td>-0.920411</td>\n",
       "    </tr>\n",
       "    <tr>\n",
       "      <th>6</th>\n",
       "      <td>AGE</td>\n",
       "      <td>0.021121</td>\n",
       "    </tr>\n",
       "    <tr>\n",
       "      <th>2</th>\n",
       "      <td>INDUS</td>\n",
       "      <td>0.142967</td>\n",
       "    </tr>\n",
       "    <tr>\n",
       "      <th>3</th>\n",
       "      <td>CHAS</td>\n",
       "      <td>0.682203</td>\n",
       "    </tr>\n",
       "    <tr>\n",
       "      <th>11</th>\n",
       "      <td>B</td>\n",
       "      <td>0.856640</td>\n",
       "    </tr>\n",
       "    <tr>\n",
       "      <th>1</th>\n",
       "      <td>ZN</td>\n",
       "      <td>1.080981</td>\n",
       "    </tr>\n",
       "    <tr>\n",
       "      <th>8</th>\n",
       "      <td>RAD</td>\n",
       "      <td>2.658787</td>\n",
       "    </tr>\n",
       "    <tr>\n",
       "      <th>5</th>\n",
       "      <td>RM</td>\n",
       "      <td>2.670641</td>\n",
       "    </tr>\n",
       "  </tbody>\n",
       "</table>\n",
       "</div>"
      ],
      "text/plain": [
       "          0         1\n",
       "12    LSTAT -3.748680\n",
       "7       DIS -3.104448\n",
       "9       TAX -2.075898\n",
       "10  PTRATIO -2.062156\n",
       "4       NOX -2.060092\n",
       "0      CRIM -0.920411\n",
       "6       AGE  0.021121\n",
       "2     INDUS  0.142967\n",
       "3      CHAS  0.682203\n",
       "11        B  0.856640\n",
       "1        ZN  1.080981\n",
       "8       RAD  2.658787\n",
       "5        RM  2.670641"
      ]
     },
     "execution_count": 17,
     "metadata": {},
     "output_type": "execute_result"
    }
   ],
   "source": [
    "### BEGIN SOLUTION\n",
    "pd.DataFrame(zip(X.columns, lr2.coef_)).sort_values(by=1)\n",
    "### END SOLUTION"
   ]
  },
  {
   "cell_type": "markdown",
   "id": "2eb0525b-b6f3-4010-889d-1ade7f5a60a2",
   "metadata": {},
   "source": [
    "Looking just at the strength of the standardized coefficients LSTAT, DIS, RM and RAD are all the 'most impactful'. Sklearn does not have built in statistical significance of each of these variables which would aid in making this claim stronger/weaker\n"
   ]
  },
  {
   "cell_type": "markdown",
   "id": "09dc6fa8-0479-4456-b2cd-385b01300f9a",
   "metadata": {},
   "source": [
    "### Lasso with and without scaling\n"
   ]
  },
  {
   "cell_type": "markdown",
   "id": "7b3b86c2-de8f-4b31-8346-aa6950f3fd3f",
   "metadata": {},
   "source": [
    "We discussed Lasso in lecture.\n",
    "\n",
    "Let's review together:\n",
    "\n",
    "1.  What is different about Lasso vs. regular Linear Regression?\n",
    "2.  Is standardization more or less important with Lasso vs. Linear Regression? Why?\n"
   ]
  },
  {
   "cell_type": "code",
   "execution_count": 18,
   "id": "52de618e-4f6d-4453-a8dc-c5afa04d0865",
   "metadata": {},
   "outputs": [],
   "source": [
    "from sklearn.linear_model import Lasso\n",
    "from sklearn.preprocessing import PolynomialFeatures"
   ]
  },
  {
   "cell_type": "markdown",
   "id": "e5a7b16e-d8dd-4ce7-ab2f-2cb592d31b73",
   "metadata": {},
   "source": [
    "#### Create polynomial features\n"
   ]
  },
  {
   "cell_type": "markdown",
   "id": "0a2f3499-d781-419a-a87e-9fb56bc315c3",
   "metadata": {},
   "source": [
    "[`PolynomialFeatures`](http://scikit-learn.org/stable/modules/generated/sklearn.preprocessing.PolynomialFeatures.html?utm_medium=Exinfluencer&utm_source=Exinfluencer&utm_content=000026UJ&utm_term=10006555&utm_id=NA-SkillsNetwork-Channel-SkillsNetworkCoursesIBMML240ENSkillsNetwork34171862-2022-01-01)\n"
   ]
  },
  {
   "cell_type": "code",
   "execution_count": 19,
   "id": "1e88ed64-ba4a-4535-8f42-21aed1edcffb",
   "metadata": {},
   "outputs": [],
   "source": [
    "pf = PolynomialFeatures(degree=2, include_bias=False,)\n",
    "X_pf = pf.fit_transform(X)"
   ]
  },
  {
   "cell_type": "markdown",
   "id": "f671921e-edc3-4cec-b1e6-9d702c5200c5",
   "metadata": {},
   "source": [
    "**Note:** We use `include_bias=False` since `Lasso` includes a bias by default.\n"
   ]
  },
  {
   "cell_type": "code",
   "execution_count": 20,
   "id": "fb27e3e8-3e99-41d7-a660-1efc14eb0d71",
   "metadata": {},
   "outputs": [],
   "source": [
    "X_pf_ss = s.fit_transform(X_pf)"
   ]
  },
  {
   "cell_type": "markdown",
   "id": "b3bfd463-9bf5-4eb8-9e6b-8491986c8846",
   "metadata": {},
   "source": [
    "### Lasso\n"
   ]
  },
  {
   "cell_type": "markdown",
   "id": "29de1891-8fb7-4aab-bd01-75dfae091270",
   "metadata": {},
   "source": [
    "[`Lasso` documentation](http://scikit-learn.org/stable/modules/generated/sklearn.linear_model.Lasso.html?utm_medium=Exinfluencer&utm_source=Exinfluencer&utm_content=000026UJ&utm_term=10006555&utm_id=NA-SkillsNetwork-Channel-SkillsNetworkCoursesIBMML240ENSkillsNetwork34171862-2022-01-01)\n"
   ]
  },
  {
   "cell_type": "code",
   "execution_count": 21,
   "id": "68278353-927b-48e7-8c45-b98a3e0822bf",
   "metadata": {},
   "outputs": [
    {
     "data": {
      "text/plain": [
       "array([-0.   ,  0.   , -0.   ,  0.   , -0.   ,  0.   , -0.   , -0.   ,\n",
       "       -0.   , -0.   , -0.991,  0.   , -0.   , -0.   ,  0.   , -0.   ,\n",
       "        0.068, -0.   , -0.   , -0.   , -0.   , -0.   , -0.   , -0.   ,\n",
       "       -0.   , -0.   ,  0.   ,  0.   ,  0.   ,  0.   ,  0.   ,  0.   ,\n",
       "        0.   ,  0.   ,  0.   ,  0.   ,  0.   ,  0.   , -0.   ,  0.   ,\n",
       "       -0.   , -0.   , -0.   , -0.05 , -0.   , -0.   , -0.   , -0.   ,\n",
       "       -0.   ,  0.   ,  0.   ,  0.   ,  0.   ,  0.   ,  0.   ,  0.   ,\n",
       "        0.   ,  0.   ,  0.   , -0.   , -0.   , -0.   , -0.   , -0.   ,\n",
       "       -0.   , -0.   ,  0.   , -0.   ,  3.3  , -0.   , -0.   , -0.   ,\n",
       "       -0.   , -0.   ,  0.42 , -3.498, -0.   , -0.   , -0.   , -0.   ,\n",
       "       -0.   ,  0.   , -0.   , -0.   , -0.   , -0.146, -0.   , -0.   ,\n",
       "       -0.   , -0.   , -0.   , -0.   , -0.   , -0.   , -0.   , -0.   ,\n",
       "       -0.   , -0.   , -0.   ,  0.   , -0.   ,  0.   , -0.   , -0.   ])"
      ]
     },
     "execution_count": 21,
     "metadata": {},
     "output_type": "execute_result"
    }
   ],
   "source": [
    "las = Lasso()\n",
    "las.fit(X_pf_ss, y)\n",
    "las.coef_ "
   ]
  },
  {
   "cell_type": "markdown",
   "id": "2bb8cd22-b24d-4132-8268-8b9ae36cf3c8",
   "metadata": {},
   "source": [
    "### Exercise\n",
    "\n",
    "Compare\n",
    "\n",
    "*   Sum of magnitudes of the coefficients\n",
    "*   Number of coefficients that are zero\n",
    "\n",
    "for Lasso with alpha 0.1 vs. 1.\n",
    "\n",
    "Before doing the exercise, answer the following questions in one sentence each:\n",
    "\n",
    "*   Which do you expect to have greater magnitude?\n",
    "*   Which do you expect to have more zeros?\n"
   ]
  },
  {
   "cell_type": "code",
   "execution_count": 22,
   "id": "7b7f3b67-8ed1-4246-b1d9-0cb6197c3c87",
   "metadata": {},
   "outputs": [
    {
     "name": "stdout",
     "output_type": "stream",
     "text": [
      "sum of coefficients: 26.172415115426787\n",
      "number of coefficients not equal to 0: 23\n"
     ]
    }
   ],
   "source": [
    "### BEGIN SOLUTION\n",
    "las01 = Lasso(alpha = 0.1)\n",
    "las01.fit(X_pf_ss, y)\n",
    "print('sum of coefficients:', abs(las01.coef_).sum() )\n",
    "print('number of coefficients not equal to 0:', (las01.coef_!=0).sum())"
   ]
  },
  {
   "cell_type": "code",
   "execution_count": 23,
   "id": "b8c7eac0-3077-4f07-95b7-42203c7459d9",
   "metadata": {},
   "outputs": [
    {
     "name": "stdout",
     "output_type": "stream",
     "text": [
      "sum of coefficients: 8.472405227760156\n",
      "number of coefficients not equal to 0: 7\n"
     ]
    }
   ],
   "source": [
    "las1 = Lasso(alpha = 1)\n",
    "las1.fit(X_pf_ss, y)\n",
    "print('sum of coefficients:',abs(las1.coef_).sum() )\n",
    "print('number of coefficients not equal to 0:',(las1.coef_!=0).sum())\n",
    "### END SOLUTION"
   ]
  },
  {
   "cell_type": "markdown",
   "id": "dca8bc24-5990-4b08-b9b3-3ddf750c990b",
   "metadata": {},
   "source": [
    "With more regularization (higher alpha) we will expect the penalty for higher weights to be greater and thus the coefficients to be pushed down. Thus a higher alpha means lower magnitude with more coefficients pushed down to 0.\n"
   ]
  },
  {
   "cell_type": "markdown",
   "id": "374c3b49-e959-42ae-a782-7bb5421e6938",
   "metadata": {},
   "source": [
    "### Exercise: $R^2$\n"
   ]
  },
  {
   "cell_type": "markdown",
   "id": "172abb49-f322-4851-8c44-8c28cce9ff50",
   "metadata": {},
   "source": [
    "Calculate the $R^2$ of each model without train/test split.\n",
    "\n",
    "Recall that we import $R^2$ using:\n",
    "\n",
    "```python\n",
    "from sklearn.metrics import r2_score\n",
    "```\n"
   ]
  },
  {
   "cell_type": "code",
   "execution_count": 24,
   "id": "81e9feb7-3539-49bc-8a65-0cc8ff759803",
   "metadata": {},
   "outputs": [
    {
     "data": {
      "text/plain": [
       "0.7207000461229027"
      ]
     },
     "execution_count": 24,
     "metadata": {},
     "output_type": "execute_result"
    }
   ],
   "source": [
    "### BEGIN SOLUTION\n",
    "from sklearn.metrics import r2_score\n",
    "r2_score(y,las.predict(X_pf_ss))\n",
    "### END SOLUTION"
   ]
  },
  {
   "cell_type": "markdown",
   "id": "daa287ab-4c6d-4090-9f9a-f6b44f5de1d0",
   "metadata": {},
   "source": [
    "#### Discuss:\n",
    "\n",
    "Will regularization ever increase model performance if we evaluate on the same dataset that we trained on?\n"
   ]
  },
  {
   "cell_type": "markdown",
   "id": "6e0b357c-aa18-4a42-9022-f8e315c39097",
   "metadata": {},
   "source": [
    "## With train/test split\n"
   ]
  },
  {
   "cell_type": "markdown",
   "id": "cbecda0e-2a4e-4bec-99af-3dc761dc063b",
   "metadata": {},
   "source": [
    "#### Discuss\n",
    "\n",
    "Are there any issues with what we've done so far?\n",
    "\n",
    "**Hint:** Think about the way we have done feature scaling.\n",
    "\n",
    "Discuss in groups of two or three.\n"
   ]
  },
  {
   "cell_type": "code",
   "execution_count": 25,
   "id": "eb6fd5c6-559b-4cb7-88e3-6c286bff4184",
   "metadata": {},
   "outputs": [],
   "source": [
    "from sklearn.model_selection import train_test_split"
   ]
  },
  {
   "cell_type": "code",
   "execution_count": 26,
   "id": "274763f3-60f5-4f53-8880-ae935b74f13b",
   "metadata": {},
   "outputs": [],
   "source": [
    "X_train, X_test, y_train, y_test = train_test_split(X_pf, y, test_size=0.3, \n",
    "                                                    random_state=72018)"
   ]
  },
  {
   "cell_type": "code",
   "execution_count": 27,
   "id": "4538a941-786e-4eac-b84b-e60f7c6ba62f",
   "metadata": {},
   "outputs": [
    {
     "data": {
      "text/plain": [
       "0.3318289609088585"
      ]
     },
     "execution_count": 27,
     "metadata": {},
     "output_type": "execute_result"
    }
   ],
   "source": [
    "X_train_s = s.fit_transform(X_train)\n",
    "las.fit(X_train_s, y_train)\n",
    "X_test_s = s.transform(X_test)\n",
    "y_pred = las.predict(X_test_s)\n",
    "r2_score(y_pred, y_test)"
   ]
  },
  {
   "cell_type": "code",
   "execution_count": 28,
   "id": "ebc960d3-b2c7-4c89-842d-d26d46fe173c",
   "metadata": {},
   "outputs": [
    {
     "data": {
      "text/plain": [
       "0.7112273165812626"
      ]
     },
     "execution_count": 28,
     "metadata": {},
     "output_type": "execute_result"
    }
   ],
   "source": [
    "X_train_s = s.fit_transform(X_train)\n",
    "las01.fit(X_train_s, y_train)\n",
    "X_test_s = s.transform(X_test)\n",
    "y_pred = las01.predict(X_test_s)\n",
    "r2_score(y_pred, y_test)"
   ]
  },
  {
   "cell_type": "markdown",
   "id": "294f838e-f509-4259-b31d-2b788c8bc16e",
   "metadata": {},
   "source": [
    "### Exercise\n",
    "\n",
    "#### Part 1:\n",
    "\n",
    "Do the same thing with Lasso of:\n",
    "\n",
    "*   `alpha` of 0.001\n",
    "*   Increase `max_iter` to 100000 to ensure convergence.\n",
    "\n",
    "Calculate the $R^2$ of the model.\n",
    "\n",
    "Feel free to copy-paste code from above, but write a one sentence comment above each line of code explaining why you're doing what you're doing.\n",
    "\n",
    "#### Part 2:\n",
    "\n",
    "Do the same procedure as before, but with Linear Regression.\n",
    "\n",
    "Calculate the $R^2$ of this model.\n",
    "\n",
    "#### Part 3:\n",
    "\n",
    "Compare the sums of the absolute values of the coefficients for both models, as well as the number of coefficients that are zero. Based on these measures, which model is a \"simpler\" description of the relationship between the features and the target?\n"
   ]
  },
  {
   "cell_type": "code",
   "execution_count": 29,
   "id": "521e4c2b-fe42-4dd4-92c0-a90059d41b36",
   "metadata": {},
   "outputs": [
    {
     "name": "stdout",
     "output_type": "stream",
     "text": [
      "r2 score for alpha = 0.001: 0.8847893236874353\n",
      "r2 score for Linear Regression: 0.8689110469231047\n",
      "Magnitude of Lasso coefficients: 435.57232290440174\n",
      "Number of coeffients not equal to 0 for Lasso: 90\n",
      "Magnitude of Linear Regression coefficients: 1183.8918138673635\n",
      "Number of coeffients not equal to 0 for Linear Regression: 104\n"
     ]
    }
   ],
   "source": [
    "### BEGIN SOLUTION\n",
    "\n",
    "# Part 1\n",
    "\n",
    "# Decreasing regularization and ensuring convergence\n",
    "las001 = Lasso(alpha = 0.001, max_iter=100000)\n",
    "\n",
    "# Transforming training set to get standardized units\n",
    "X_train_s = s.fit_transform(X_train)\n",
    "\n",
    "# Fitting model to training set\n",
    "las001.fit(X_train_s, y_train)\n",
    "\n",
    "# Transforming test set using the parameters defined from training set\n",
    "X_test_s = s.transform(X_test)\n",
    "\n",
    "# Finding prediction on test set\n",
    "y_pred = las001.predict(X_test_s)\n",
    "\n",
    "# Calculating r2 score\n",
    "print(\"r2 score for alpha = 0.001:\", r2_score(y_test,y_pred))\n",
    "\n",
    "\n",
    "# Part 2\n",
    "\n",
    "# Using vanilla Linear Regression\n",
    "lr = LinearRegression()\n",
    "\n",
    "# Fitting model to training set\n",
    "lr.fit(X_train_s, y_train)\n",
    "\n",
    "# predicting on test set\n",
    "y_pred_lr = lr.predict(X_test_s)\n",
    "\n",
    "# Calculating r2 score\n",
    "print(\"r2 score for Linear Regression:\", r2_score(y_test,y_pred_lr,))\n",
    "\n",
    "\n",
    "# Part 3\n",
    "print('Magnitude of Lasso coefficients:', abs(las001.coef_).sum())\n",
    "print('Number of coeffients not equal to 0 for Lasso:', (las001.coef_!=0).sum())\n",
    "\n",
    "print('Magnitude of Linear Regression coefficients:', abs(lr.coef_).sum())\n",
    "print('Number of coeffients not equal to 0 for Linear Regression:', (lr.coef_!=0).sum())\n",
    "### END SOLUTION"
   ]
  },
  {
   "cell_type": "markdown",
   "id": "2db6cc67-34de-4c5e-ab91-b067892e031e",
   "metadata": {},
   "source": [
    "## L1 vs. L2 Regularization\n"
   ]
  },
  {
   "cell_type": "markdown",
   "id": "9afe2867-81a3-4d05-83d4-097919130fff",
   "metadata": {},
   "source": [
    "As mentioned in the deck: `Lasso` and `Ridge` regression have the same syntax in SciKit Learn.\n",
    "\n",
    "Now we're going to compare the results from Ridge vs. Lasso regression:\n"
   ]
  },
  {
   "cell_type": "markdown",
   "id": "a66290dd-ac93-4368-8384-b93fe8e68ae1",
   "metadata": {},
   "source": [
    "[`Ridge`](http://scikit-learn.org/stable/modules/generated/sklearn.linear_model.Ridge.html?utm_medium=Exinfluencer&utm_source=Exinfluencer&utm_content=000026UJ&utm_term=10006555&utm_id=NA-SkillsNetwork-Channel-SkillsNetworkCoursesIBMML240ENSkillsNetwork34171862-2022-01-01)\n"
   ]
  },
  {
   "cell_type": "code",
   "execution_count": 30,
   "id": "9add5753-25cc-472d-849c-633b7c6dc0ea",
   "metadata": {},
   "outputs": [],
   "source": [
    "from sklearn.linear_model import Ridge"
   ]
  },
  {
   "cell_type": "markdown",
   "id": "13fc85b2-323d-4daf-b774-bff80860536b",
   "metadata": {},
   "source": [
    "### Exercise\n",
    "\n",
    "Following the Ridge documentation from above:\n",
    "\n",
    "1.  Define a Ridge object `r` with the same `alpha` as `las001`.\n",
    "2.  Fit that object on `X` and `y` and print out the resulting coefficients.\n"
   ]
  },
  {
   "cell_type": "code",
   "execution_count": 31,
   "id": "64ebe8af-18cb-4361-b3f0-f846da17eb04",
   "metadata": {},
   "outputs": [
    {
     "data": {
      "text/plain": [
       "array([  7.692,   9.889, -25.005,   5.31 ,  -2.61 ,  14.958,  22.314,\n",
       "       -22.858,  27.765,  -1.565,  17.077,  21.858,  11.574,   1.05 ,\n",
       "         0.431,  13.786,   1.814,  -8.345,   4.994,  -3.564,  -3.436,\n",
       "       -16.336,  -7.047,   6.609,  -1.477,   4.686,  -1.304,  -0.059,\n",
       "        -0.304, -12.842,   1.977,   1.081,  -0.676,  -1.079,   4.492,\n",
       "        -4.267,   4.675,  -1.281,   8.666,  -0.274,  -8.12 ,  11.783,\n",
       "         6.538,   1.323,   2.06 ,   0.899,   1.789,   4.744,  -4.664,\n",
       "         5.31 ,  -3.236,  -8.668,   0.973,   1.136,   0.29 ,  -1.631,\n",
       "        -2.926,   2.923,  -0.735,  11.896,   0.754,  -7.531,  18.306,\n",
       "       -22.168,  35.651, -22.381,  -7.378,   1.732,   4.068, -12.254,\n",
       "        -3.721,  -5.537, -16.169,  -5.872,  -4.515,  -9.903,   0.942,\n",
       "        -0.095,  17.18 , -14.268,  -2.904,  -2.824,  -5.418,  11.908,\n",
       "         0.065,  -4.433,  -5.679,  -3.515,   0.822, -29.082,  49.345,\n",
       "       -21.72 ,  -1.428,  -8.864, -15.682,  11.982,  -0.818,   2.924,\n",
       "        -0.701,  -4.375,   2.712,  -2.48 ,  -2.382,   1.707])"
      ]
     },
     "execution_count": 31,
     "metadata": {},
     "output_type": "execute_result"
    }
   ],
   "source": [
    "### BEGIN SOLUTION\n",
    "# Decreasing regularization and ensuring convergence\n",
    "r = Ridge(alpha = 0.001)\n",
    "X_train_s = s.fit_transform(X_train)\n",
    "r.fit(X_train_s, y_train)\n",
    "X_test_s = s.transform(X_test)\n",
    "y_pred_r = r.predict(X_test_s)\n",
    "\n",
    "# Calculating r2 score\n",
    "r.coef_\n",
    "### END SOLUTION"
   ]
  },
  {
   "cell_type": "code",
   "execution_count": 32,
   "id": "365a0d0a-21e4-4708-ad0c-40742dbabf88",
   "metadata": {},
   "outputs": [
    {
     "data": {
      "text/html": [
       "<style>#sk-container-id-1 {\n",
       "  /* Definition of color scheme common for light and dark mode */\n",
       "  --sklearn-color-text: #000;\n",
       "  --sklearn-color-text-muted: #666;\n",
       "  --sklearn-color-line: gray;\n",
       "  /* Definition of color scheme for unfitted estimators */\n",
       "  --sklearn-color-unfitted-level-0: #fff5e6;\n",
       "  --sklearn-color-unfitted-level-1: #f6e4d2;\n",
       "  --sklearn-color-unfitted-level-2: #ffe0b3;\n",
       "  --sklearn-color-unfitted-level-3: chocolate;\n",
       "  /* Definition of color scheme for fitted estimators */\n",
       "  --sklearn-color-fitted-level-0: #f0f8ff;\n",
       "  --sklearn-color-fitted-level-1: #d4ebff;\n",
       "  --sklearn-color-fitted-level-2: #b3dbfd;\n",
       "  --sklearn-color-fitted-level-3: cornflowerblue;\n",
       "\n",
       "  /* Specific color for light theme */\n",
       "  --sklearn-color-text-on-default-background: var(--sg-text-color, var(--theme-code-foreground, var(--jp-content-font-color1, black)));\n",
       "  --sklearn-color-background: var(--sg-background-color, var(--theme-background, var(--jp-layout-color0, white)));\n",
       "  --sklearn-color-border-box: var(--sg-text-color, var(--theme-code-foreground, var(--jp-content-font-color1, black)));\n",
       "  --sklearn-color-icon: #696969;\n",
       "\n",
       "  @media (prefers-color-scheme: dark) {\n",
       "    /* Redefinition of color scheme for dark theme */\n",
       "    --sklearn-color-text-on-default-background: var(--sg-text-color, var(--theme-code-foreground, var(--jp-content-font-color1, white)));\n",
       "    --sklearn-color-background: var(--sg-background-color, var(--theme-background, var(--jp-layout-color0, #111)));\n",
       "    --sklearn-color-border-box: var(--sg-text-color, var(--theme-code-foreground, var(--jp-content-font-color1, white)));\n",
       "    --sklearn-color-icon: #878787;\n",
       "  }\n",
       "}\n",
       "\n",
       "#sk-container-id-1 {\n",
       "  color: var(--sklearn-color-text);\n",
       "}\n",
       "\n",
       "#sk-container-id-1 pre {\n",
       "  padding: 0;\n",
       "}\n",
       "\n",
       "#sk-container-id-1 input.sk-hidden--visually {\n",
       "  border: 0;\n",
       "  clip: rect(1px 1px 1px 1px);\n",
       "  clip: rect(1px, 1px, 1px, 1px);\n",
       "  height: 1px;\n",
       "  margin: -1px;\n",
       "  overflow: hidden;\n",
       "  padding: 0;\n",
       "  position: absolute;\n",
       "  width: 1px;\n",
       "}\n",
       "\n",
       "#sk-container-id-1 div.sk-dashed-wrapped {\n",
       "  border: 1px dashed var(--sklearn-color-line);\n",
       "  margin: 0 0.4em 0.5em 0.4em;\n",
       "  box-sizing: border-box;\n",
       "  padding-bottom: 0.4em;\n",
       "  background-color: var(--sklearn-color-background);\n",
       "}\n",
       "\n",
       "#sk-container-id-1 div.sk-container {\n",
       "  /* jupyter's `normalize.less` sets `[hidden] { display: none; }`\n",
       "     but bootstrap.min.css set `[hidden] { display: none !important; }`\n",
       "     so we also need the `!important` here to be able to override the\n",
       "     default hidden behavior on the sphinx rendered scikit-learn.org.\n",
       "     See: https://github.com/scikit-learn/scikit-learn/issues/21755 */\n",
       "  display: inline-block !important;\n",
       "  position: relative;\n",
       "}\n",
       "\n",
       "#sk-container-id-1 div.sk-text-repr-fallback {\n",
       "  display: none;\n",
       "}\n",
       "\n",
       "div.sk-parallel-item,\n",
       "div.sk-serial,\n",
       "div.sk-item {\n",
       "  /* draw centered vertical line to link estimators */\n",
       "  background-image: linear-gradient(var(--sklearn-color-text-on-default-background), var(--sklearn-color-text-on-default-background));\n",
       "  background-size: 2px 100%;\n",
       "  background-repeat: no-repeat;\n",
       "  background-position: center center;\n",
       "}\n",
       "\n",
       "/* Parallel-specific style estimator block */\n",
       "\n",
       "#sk-container-id-1 div.sk-parallel-item::after {\n",
       "  content: \"\";\n",
       "  width: 100%;\n",
       "  border-bottom: 2px solid var(--sklearn-color-text-on-default-background);\n",
       "  flex-grow: 1;\n",
       "}\n",
       "\n",
       "#sk-container-id-1 div.sk-parallel {\n",
       "  display: flex;\n",
       "  align-items: stretch;\n",
       "  justify-content: center;\n",
       "  background-color: var(--sklearn-color-background);\n",
       "  position: relative;\n",
       "}\n",
       "\n",
       "#sk-container-id-1 div.sk-parallel-item {\n",
       "  display: flex;\n",
       "  flex-direction: column;\n",
       "}\n",
       "\n",
       "#sk-container-id-1 div.sk-parallel-item:first-child::after {\n",
       "  align-self: flex-end;\n",
       "  width: 50%;\n",
       "}\n",
       "\n",
       "#sk-container-id-1 div.sk-parallel-item:last-child::after {\n",
       "  align-self: flex-start;\n",
       "  width: 50%;\n",
       "}\n",
       "\n",
       "#sk-container-id-1 div.sk-parallel-item:only-child::after {\n",
       "  width: 0;\n",
       "}\n",
       "\n",
       "/* Serial-specific style estimator block */\n",
       "\n",
       "#sk-container-id-1 div.sk-serial {\n",
       "  display: flex;\n",
       "  flex-direction: column;\n",
       "  align-items: center;\n",
       "  background-color: var(--sklearn-color-background);\n",
       "  padding-right: 1em;\n",
       "  padding-left: 1em;\n",
       "}\n",
       "\n",
       "\n",
       "/* Toggleable style: style used for estimator/Pipeline/ColumnTransformer box that is\n",
       "clickable and can be expanded/collapsed.\n",
       "- Pipeline and ColumnTransformer use this feature and define the default style\n",
       "- Estimators will overwrite some part of the style using the `sk-estimator` class\n",
       "*/\n",
       "\n",
       "/* Pipeline and ColumnTransformer style (default) */\n",
       "\n",
       "#sk-container-id-1 div.sk-toggleable {\n",
       "  /* Default theme specific background. It is overwritten whether we have a\n",
       "  specific estimator or a Pipeline/ColumnTransformer */\n",
       "  background-color: var(--sklearn-color-background);\n",
       "}\n",
       "\n",
       "/* Toggleable label */\n",
       "#sk-container-id-1 label.sk-toggleable__label {\n",
       "  cursor: pointer;\n",
       "  display: flex;\n",
       "  width: 100%;\n",
       "  margin-bottom: 0;\n",
       "  padding: 0.5em;\n",
       "  box-sizing: border-box;\n",
       "  text-align: center;\n",
       "  align-items: start;\n",
       "  justify-content: space-between;\n",
       "  gap: 0.5em;\n",
       "}\n",
       "\n",
       "#sk-container-id-1 label.sk-toggleable__label .caption {\n",
       "  font-size: 0.6rem;\n",
       "  font-weight: lighter;\n",
       "  color: var(--sklearn-color-text-muted);\n",
       "}\n",
       "\n",
       "#sk-container-id-1 label.sk-toggleable__label-arrow:before {\n",
       "  /* Arrow on the left of the label */\n",
       "  content: \"▸\";\n",
       "  float: left;\n",
       "  margin-right: 0.25em;\n",
       "  color: var(--sklearn-color-icon);\n",
       "}\n",
       "\n",
       "#sk-container-id-1 label.sk-toggleable__label-arrow:hover:before {\n",
       "  color: var(--sklearn-color-text);\n",
       "}\n",
       "\n",
       "/* Toggleable content - dropdown */\n",
       "\n",
       "#sk-container-id-1 div.sk-toggleable__content {\n",
       "  max-height: 0;\n",
       "  max-width: 0;\n",
       "  overflow: hidden;\n",
       "  text-align: left;\n",
       "  /* unfitted */\n",
       "  background-color: var(--sklearn-color-unfitted-level-0);\n",
       "}\n",
       "\n",
       "#sk-container-id-1 div.sk-toggleable__content.fitted {\n",
       "  /* fitted */\n",
       "  background-color: var(--sklearn-color-fitted-level-0);\n",
       "}\n",
       "\n",
       "#sk-container-id-1 div.sk-toggleable__content pre {\n",
       "  margin: 0.2em;\n",
       "  border-radius: 0.25em;\n",
       "  color: var(--sklearn-color-text);\n",
       "  /* unfitted */\n",
       "  background-color: var(--sklearn-color-unfitted-level-0);\n",
       "}\n",
       "\n",
       "#sk-container-id-1 div.sk-toggleable__content.fitted pre {\n",
       "  /* unfitted */\n",
       "  background-color: var(--sklearn-color-fitted-level-0);\n",
       "}\n",
       "\n",
       "#sk-container-id-1 input.sk-toggleable__control:checked~div.sk-toggleable__content {\n",
       "  /* Expand drop-down */\n",
       "  max-height: 200px;\n",
       "  max-width: 100%;\n",
       "  overflow: auto;\n",
       "}\n",
       "\n",
       "#sk-container-id-1 input.sk-toggleable__control:checked~label.sk-toggleable__label-arrow:before {\n",
       "  content: \"▾\";\n",
       "}\n",
       "\n",
       "/* Pipeline/ColumnTransformer-specific style */\n",
       "\n",
       "#sk-container-id-1 div.sk-label input.sk-toggleable__control:checked~label.sk-toggleable__label {\n",
       "  color: var(--sklearn-color-text);\n",
       "  background-color: var(--sklearn-color-unfitted-level-2);\n",
       "}\n",
       "\n",
       "#sk-container-id-1 div.sk-label.fitted input.sk-toggleable__control:checked~label.sk-toggleable__label {\n",
       "  background-color: var(--sklearn-color-fitted-level-2);\n",
       "}\n",
       "\n",
       "/* Estimator-specific style */\n",
       "\n",
       "/* Colorize estimator box */\n",
       "#sk-container-id-1 div.sk-estimator input.sk-toggleable__control:checked~label.sk-toggleable__label {\n",
       "  /* unfitted */\n",
       "  background-color: var(--sklearn-color-unfitted-level-2);\n",
       "}\n",
       "\n",
       "#sk-container-id-1 div.sk-estimator.fitted input.sk-toggleable__control:checked~label.sk-toggleable__label {\n",
       "  /* fitted */\n",
       "  background-color: var(--sklearn-color-fitted-level-2);\n",
       "}\n",
       "\n",
       "#sk-container-id-1 div.sk-label label.sk-toggleable__label,\n",
       "#sk-container-id-1 div.sk-label label {\n",
       "  /* The background is the default theme color */\n",
       "  color: var(--sklearn-color-text-on-default-background);\n",
       "}\n",
       "\n",
       "/* On hover, darken the color of the background */\n",
       "#sk-container-id-1 div.sk-label:hover label.sk-toggleable__label {\n",
       "  color: var(--sklearn-color-text);\n",
       "  background-color: var(--sklearn-color-unfitted-level-2);\n",
       "}\n",
       "\n",
       "/* Label box, darken color on hover, fitted */\n",
       "#sk-container-id-1 div.sk-label.fitted:hover label.sk-toggleable__label.fitted {\n",
       "  color: var(--sklearn-color-text);\n",
       "  background-color: var(--sklearn-color-fitted-level-2);\n",
       "}\n",
       "\n",
       "/* Estimator label */\n",
       "\n",
       "#sk-container-id-1 div.sk-label label {\n",
       "  font-family: monospace;\n",
       "  font-weight: bold;\n",
       "  display: inline-block;\n",
       "  line-height: 1.2em;\n",
       "}\n",
       "\n",
       "#sk-container-id-1 div.sk-label-container {\n",
       "  text-align: center;\n",
       "}\n",
       "\n",
       "/* Estimator-specific */\n",
       "#sk-container-id-1 div.sk-estimator {\n",
       "  font-family: monospace;\n",
       "  border: 1px dotted var(--sklearn-color-border-box);\n",
       "  border-radius: 0.25em;\n",
       "  box-sizing: border-box;\n",
       "  margin-bottom: 0.5em;\n",
       "  /* unfitted */\n",
       "  background-color: var(--sklearn-color-unfitted-level-0);\n",
       "}\n",
       "\n",
       "#sk-container-id-1 div.sk-estimator.fitted {\n",
       "  /* fitted */\n",
       "  background-color: var(--sklearn-color-fitted-level-0);\n",
       "}\n",
       "\n",
       "/* on hover */\n",
       "#sk-container-id-1 div.sk-estimator:hover {\n",
       "  /* unfitted */\n",
       "  background-color: var(--sklearn-color-unfitted-level-2);\n",
       "}\n",
       "\n",
       "#sk-container-id-1 div.sk-estimator.fitted:hover {\n",
       "  /* fitted */\n",
       "  background-color: var(--sklearn-color-fitted-level-2);\n",
       "}\n",
       "\n",
       "/* Specification for estimator info (e.g. \"i\" and \"?\") */\n",
       "\n",
       "/* Common style for \"i\" and \"?\" */\n",
       "\n",
       ".sk-estimator-doc-link,\n",
       "a:link.sk-estimator-doc-link,\n",
       "a:visited.sk-estimator-doc-link {\n",
       "  float: right;\n",
       "  font-size: smaller;\n",
       "  line-height: 1em;\n",
       "  font-family: monospace;\n",
       "  background-color: var(--sklearn-color-background);\n",
       "  border-radius: 1em;\n",
       "  height: 1em;\n",
       "  width: 1em;\n",
       "  text-decoration: none !important;\n",
       "  margin-left: 0.5em;\n",
       "  text-align: center;\n",
       "  /* unfitted */\n",
       "  border: var(--sklearn-color-unfitted-level-1) 1pt solid;\n",
       "  color: var(--sklearn-color-unfitted-level-1);\n",
       "}\n",
       "\n",
       ".sk-estimator-doc-link.fitted,\n",
       "a:link.sk-estimator-doc-link.fitted,\n",
       "a:visited.sk-estimator-doc-link.fitted {\n",
       "  /* fitted */\n",
       "  border: var(--sklearn-color-fitted-level-1) 1pt solid;\n",
       "  color: var(--sklearn-color-fitted-level-1);\n",
       "}\n",
       "\n",
       "/* On hover */\n",
       "div.sk-estimator:hover .sk-estimator-doc-link:hover,\n",
       ".sk-estimator-doc-link:hover,\n",
       "div.sk-label-container:hover .sk-estimator-doc-link:hover,\n",
       ".sk-estimator-doc-link:hover {\n",
       "  /* unfitted */\n",
       "  background-color: var(--sklearn-color-unfitted-level-3);\n",
       "  color: var(--sklearn-color-background);\n",
       "  text-decoration: none;\n",
       "}\n",
       "\n",
       "div.sk-estimator.fitted:hover .sk-estimator-doc-link.fitted:hover,\n",
       ".sk-estimator-doc-link.fitted:hover,\n",
       "div.sk-label-container:hover .sk-estimator-doc-link.fitted:hover,\n",
       ".sk-estimator-doc-link.fitted:hover {\n",
       "  /* fitted */\n",
       "  background-color: var(--sklearn-color-fitted-level-3);\n",
       "  color: var(--sklearn-color-background);\n",
       "  text-decoration: none;\n",
       "}\n",
       "\n",
       "/* Span, style for the box shown on hovering the info icon */\n",
       ".sk-estimator-doc-link span {\n",
       "  display: none;\n",
       "  z-index: 9999;\n",
       "  position: relative;\n",
       "  font-weight: normal;\n",
       "  right: .2ex;\n",
       "  padding: .5ex;\n",
       "  margin: .5ex;\n",
       "  width: min-content;\n",
       "  min-width: 20ex;\n",
       "  max-width: 50ex;\n",
       "  color: var(--sklearn-color-text);\n",
       "  box-shadow: 2pt 2pt 4pt #999;\n",
       "  /* unfitted */\n",
       "  background: var(--sklearn-color-unfitted-level-0);\n",
       "  border: .5pt solid var(--sklearn-color-unfitted-level-3);\n",
       "}\n",
       "\n",
       ".sk-estimator-doc-link.fitted span {\n",
       "  /* fitted */\n",
       "  background: var(--sklearn-color-fitted-level-0);\n",
       "  border: var(--sklearn-color-fitted-level-3);\n",
       "}\n",
       "\n",
       ".sk-estimator-doc-link:hover span {\n",
       "  display: block;\n",
       "}\n",
       "\n",
       "/* \"?\"-specific style due to the `<a>` HTML tag */\n",
       "\n",
       "#sk-container-id-1 a.estimator_doc_link {\n",
       "  float: right;\n",
       "  font-size: 1rem;\n",
       "  line-height: 1em;\n",
       "  font-family: monospace;\n",
       "  background-color: var(--sklearn-color-background);\n",
       "  border-radius: 1rem;\n",
       "  height: 1rem;\n",
       "  width: 1rem;\n",
       "  text-decoration: none;\n",
       "  /* unfitted */\n",
       "  color: var(--sklearn-color-unfitted-level-1);\n",
       "  border: var(--sklearn-color-unfitted-level-1) 1pt solid;\n",
       "}\n",
       "\n",
       "#sk-container-id-1 a.estimator_doc_link.fitted {\n",
       "  /* fitted */\n",
       "  border: var(--sklearn-color-fitted-level-1) 1pt solid;\n",
       "  color: var(--sklearn-color-fitted-level-1);\n",
       "}\n",
       "\n",
       "/* On hover */\n",
       "#sk-container-id-1 a.estimator_doc_link:hover {\n",
       "  /* unfitted */\n",
       "  background-color: var(--sklearn-color-unfitted-level-3);\n",
       "  color: var(--sklearn-color-background);\n",
       "  text-decoration: none;\n",
       "}\n",
       "\n",
       "#sk-container-id-1 a.estimator_doc_link.fitted:hover {\n",
       "  /* fitted */\n",
       "  background-color: var(--sklearn-color-fitted-level-3);\n",
       "}\n",
       "</style><div id=\"sk-container-id-1\" class=\"sk-top-container\"><div class=\"sk-text-repr-fallback\"><pre>Lasso(alpha=0.001, max_iter=100000)</pre><b>In a Jupyter environment, please rerun this cell to show the HTML representation or trust the notebook. <br />On GitHub, the HTML representation is unable to render, please try loading this page with nbviewer.org.</b></div><div class=\"sk-container\" hidden><div class=\"sk-item\"><div class=\"sk-estimator fitted sk-toggleable\"><input class=\"sk-toggleable__control sk-hidden--visually\" id=\"sk-estimator-id-1\" type=\"checkbox\" checked><label for=\"sk-estimator-id-1\" class=\"sk-toggleable__label fitted sk-toggleable__label-arrow\"><div><div>Lasso</div></div><div><a class=\"sk-estimator-doc-link fitted\" rel=\"noreferrer\" target=\"_blank\" href=\"https://scikit-learn.org/1.6/modules/generated/sklearn.linear_model.Lasso.html\">?<span>Documentation for Lasso</span></a><span class=\"sk-estimator-doc-link fitted\">i<span>Fitted</span></span></div></label><div class=\"sk-toggleable__content fitted\"><pre>Lasso(alpha=0.001, max_iter=100000)</pre></div> </div></div></div></div>"
      ],
      "text/plain": [
       "Lasso(alpha=0.001, max_iter=100000)"
      ]
     },
     "execution_count": 32,
     "metadata": {},
     "output_type": "execute_result"
    }
   ],
   "source": [
    "las001 # same alpha as Ridge above"
   ]
  },
  {
   "cell_type": "code",
   "execution_count": 33,
   "id": "4f361802-1ead-480b-8b23-fe85808ef79e",
   "metadata": {},
   "outputs": [
    {
     "data": {
      "text/plain": [
       "array([  0.   ,   0.   , -17.008,   2.592,   0.   ,  13.431,  10.062,\n",
       "       -19.542,   9.237,   0.   ,   6.159,  17.087,  11.486,   1.208,\n",
       "         0.219,  10.827,   2.185,  -7.106,   4.312,  -1.526,  -2.092,\n",
       "        -9.669,   0.   ,   0.   ,  -1.177,   3.865,   0.378,   0.194,\n",
       "        -0.296,  -3.478,   0.291,   0.72 ,  -0.795,  -0.74 ,   2.407,\n",
       "        -0.892,   2.835,  -0.984,   3.864,  -0.963,   6.914,   6.2  ,\n",
       "         4.197,   0.892,   2.028,   2.608,  -3.975,   2.574,  -4.568,\n",
       "         2.086,  -2.   ,  -7.412,   1.604,   1.676,  -1.248,  -0.   ,\n",
       "        -0.   ,   2.576,  -0.851,   3.206,  -0.   ,  -2.429,   9.276,\n",
       "        -7.056,   0.   ,  -5.955,  -5.326,   0.531,   3.344,  -7.575,\n",
       "        -0.   ,  -6.762, -10.2  ,  -6.428,  -2.835,  -9.561,   0.288,\n",
       "         0.549,  11.094,  -6.731,  -1.161,  -2.301,  -3.555,   9.12 ,\n",
       "        -0.014,  -2.384,  -2.042,  -1.691,   0.798, -20.822,  27.09 ,\n",
       "         0.   ,  -1.527,  -6.793,  -5.084,  15.577,   0.   ,  -0.   ,\n",
       "         0.569,  -3.456,   2.458,  -2.501,  -2.223,   2.226])"
      ]
     },
     "execution_count": 33,
     "metadata": {},
     "output_type": "execute_result"
    }
   ],
   "source": [
    "las001.coef_"
   ]
  },
  {
   "cell_type": "code",
   "execution_count": 34,
   "id": "cdcca549-8fa3-48e9-8d1f-50f061bf7e6c",
   "metadata": {},
   "outputs": [
    {
     "name": "stdout",
     "output_type": "stream",
     "text": [
      "792.8673755073561\n",
      "435.57232290440174\n",
      "104\n",
      "90\n"
     ]
    }
   ],
   "source": [
    "print(np.sum(np.abs(r.coef_)))\n",
    "print(np.sum(np.abs(las001.coef_)))\n",
    "\n",
    "print(np.sum(r.coef_ != 0))\n",
    "print(np.sum(las001.coef_ != 0))"
   ]
  },
  {
   "cell_type": "markdown",
   "id": "8766db7f-ad7b-4aaf-8093-473ef9f99ad5",
   "metadata": {},
   "source": [
    "**Conclusion:** Ridge does not make any coefficients 0. In addition, on this particular dataset, Lasso provides stronger overall regularization than Ridge for this value of `alpha` (not necessarily true in general).\n"
   ]
  },
  {
   "cell_type": "code",
   "execution_count": 35,
   "id": "128b5194-b787-4395-a3f2-1b0610df625d",
   "metadata": {},
   "outputs": [
    {
     "name": "stdout",
     "output_type": "stream",
     "text": [
      "0.9076091395033128\n",
      "0.9103503442034412\n"
     ]
    }
   ],
   "source": [
    "y_pred = r.predict(X_pf_ss)\n",
    "print(r2_score(y, y_pred))\n",
    "\n",
    "y_pred = las001.predict(X_pf_ss)\n",
    "print(r2_score(y, y_pred))"
   ]
  },
  {
   "cell_type": "markdown",
   "id": "cd851eb9-ab6b-4933-866f-f6fabeabaf03",
   "metadata": {},
   "source": [
    "**Conclusion**: Ignoring issues of overfitting, Ridge does slightly better than Lasso when `alpha` is set to 0.001 for each (not necessarily true in general).\n"
   ]
  },
  {
   "cell_type": "markdown",
   "id": "46c37471-3f5f-475b-9910-54aa110fbe16",
   "metadata": {},
   "source": [
    "# Example: Does it matter when you scale?\n"
   ]
  },
  {
   "cell_type": "code",
   "execution_count": 36,
   "id": "41a59280-03ae-4f91-9ecb-18d44e43557c",
   "metadata": {},
   "outputs": [],
   "source": [
    "X_train, X_test, y_train, y_test = train_test_split(X_ss, y, test_size=0.3, \n",
    "                                                    random_state=72018)"
   ]
  },
  {
   "cell_type": "code",
   "execution_count": 37,
   "id": "d50fd0f7-6cad-401c-b47b-6610128cce06",
   "metadata": {},
   "outputs": [
    {
     "data": {
      "text/plain": [
       "0.6982083583132745"
      ]
     },
     "execution_count": 37,
     "metadata": {},
     "output_type": "execute_result"
    }
   ],
   "source": [
    "lr = LinearRegression()\n",
    "lr.fit(X_train, y_train)\n",
    "y_pred = lr.predict(X_test)\n",
    "r2_score(y_test,y_pred)"
   ]
  },
  {
   "cell_type": "code",
   "execution_count": 38,
   "id": "402d50d0-8dd1-468f-8921-e571fde79268",
   "metadata": {},
   "outputs": [],
   "source": [
    "X_train, X_test, y_train, y_test = train_test_split(X, y, test_size=0.3, \n",
    "                                                    random_state=72018)"
   ]
  },
  {
   "cell_type": "code",
   "execution_count": 39,
   "id": "5f0b481a-86c7-481f-b23c-87ecde157b23",
   "metadata": {},
   "outputs": [
    {
     "data": {
      "text/plain": [
       "0.698208358313275"
      ]
     },
     "execution_count": 39,
     "metadata": {},
     "output_type": "execute_result"
    }
   ],
   "source": [
    "s = StandardScaler()\n",
    "lr_s = LinearRegression()\n",
    "X_train_s = s.fit_transform(X_train)\n",
    "lr_s.fit(X_train_s, y_train)\n",
    "X_test_s = s.transform(X_test)\n",
    "y_pred_s = lr_s.predict(X_test_s)\n",
    "r2_score(y_test,y_pred_s)"
   ]
  },
  {
   "cell_type": "markdown",
   "id": "18b8fa7b-caaf-4783-8889-ba6ba475edcb",
   "metadata": {},
   "source": [
    "**Conclusion:** It doesn't matter whether you scale before or afterwards, in terms of the raw predictions, for Linear Regression. However, it matters for other algorithms. Plus, as we'll see later, we can make scaling part of a `Pipeline`.\n"
   ]
  },
  {
   "cell_type": "markdown",
   "id": "510fcfac-1cdd-45ba-a54f-b7ef86c058ca",
   "metadata": {},
   "source": [
    "***\n",
    "\n",
    "### Machine Learning Foundation (C) 2020 IBM Corporation\n"
   ]
  }
 ],
 "metadata": {
  "kernelspec": {
   "display_name": "Python 3 (ipykernel)",
   "language": "python",
   "name": "python3"
  },
  "language_info": {
   "codemirror_mode": {
    "name": "ipython",
    "version": 3
   },
   "file_extension": ".py",
   "mimetype": "text/x-python",
   "name": "python",
   "nbconvert_exporter": "python",
   "pygments_lexer": "ipython3",
   "version": "3.11.5"
  },
  "prev_pub_hash": "b5296c4a0424390a76cb1c0e953432babe0af6ad37e75767e1f443e06e01c180"
 },
 "nbformat": 4,
 "nbformat_minor": 4
}
